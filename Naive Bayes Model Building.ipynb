{
 "cells": [
  {
   "cell_type": "code",
   "execution_count": 1,
   "id": "13df0241",
   "metadata": {},
   "outputs": [],
   "source": [
    "import nltk\n",
    "from nltk.corpus import stopwords\n",
    "from nltk.tokenize import word_tokenize, RegexpTokenizer\n",
    "\n",
    "import pickle\n",
    "import pandas as pd\n",
    "from tqdm import tqdm\n",
    "import seaborn as sns\n",
    "import matplotlib.pyplot as plt\n",
    "from collections import Counter\n",
    "\n",
    "from sklearn.naive_bayes import MultinomialNB\n",
    "from sklearn.model_selection import train_test_split\n",
    "from sklearn.feature_extraction.text import CountVectorizer\n",
    "from sklearn.metrics import accuracy_score, confusion_matrix\n",
    "\n",
    "%matplotlib inline"
   ]
  },
  {
   "cell_type": "markdown",
   "id": "e46c88f1",
   "metadata": {},
   "source": [
    "# Data Cleaning & Exploration"
   ]
  },
  {
   "cell_type": "code",
   "execution_count": 2,
   "id": "d955633c",
   "metadata": {},
   "outputs": [],
   "source": [
    "data = pd.read_csv(\"Input/complaints.csv\")"
   ]
  },
  {
   "cell_type": "code",
   "execution_count": 3,
   "id": "28038556",
   "metadata": {},
   "outputs": [
    {
     "data": {
      "text/plain": [
       "(2326246, 18)"
      ]
     },
     "execution_count": 3,
     "metadata": {},
     "output_type": "execute_result"
    }
   ],
   "source": [
    "data.shape"
   ]
  },
  {
   "cell_type": "code",
   "execution_count": 4,
   "id": "e498802e",
   "metadata": {},
   "outputs": [
    {
     "data": {
      "text/html": [
       "<div>\n",
       "<style scoped>\n",
       "    .dataframe tbody tr th:only-of-type {\n",
       "        vertical-align: middle;\n",
       "    }\n",
       "\n",
       "    .dataframe tbody tr th {\n",
       "        vertical-align: top;\n",
       "    }\n",
       "\n",
       "    .dataframe thead th {\n",
       "        text-align: right;\n",
       "    }\n",
       "</style>\n",
       "<table border=\"1\" class=\"dataframe\">\n",
       "  <thead>\n",
       "    <tr style=\"text-align: right;\">\n",
       "      <th></th>\n",
       "      <th>Date received</th>\n",
       "      <th>Product</th>\n",
       "      <th>Sub-product</th>\n",
       "      <th>Issue</th>\n",
       "      <th>Sub-issue</th>\n",
       "      <th>Consumer complaint narrative</th>\n",
       "      <th>Company public response</th>\n",
       "      <th>Company</th>\n",
       "      <th>State</th>\n",
       "      <th>ZIP code</th>\n",
       "      <th>Tags</th>\n",
       "      <th>Consumer consent provided?</th>\n",
       "      <th>Submitted via</th>\n",
       "      <th>Date sent to company</th>\n",
       "      <th>Company response to consumer</th>\n",
       "      <th>Timely response?</th>\n",
       "      <th>Consumer disputed?</th>\n",
       "      <th>Complaint ID</th>\n",
       "    </tr>\n",
       "  </thead>\n",
       "  <tbody>\n",
       "    <tr>\n",
       "      <th>0</th>\n",
       "      <td>2019-06-13</td>\n",
       "      <td>Credit reporting, credit repair services, or o...</td>\n",
       "      <td>Credit reporting</td>\n",
       "      <td>Incorrect information on your report</td>\n",
       "      <td>Information belongs to someone else</td>\n",
       "      <td>NaN</td>\n",
       "      <td>NaN</td>\n",
       "      <td>CAPITAL ONE FINANCIAL CORPORATION</td>\n",
       "      <td>PA</td>\n",
       "      <td>186XX</td>\n",
       "      <td>NaN</td>\n",
       "      <td>Consent not provided</td>\n",
       "      <td>Web</td>\n",
       "      <td>2019-06-13</td>\n",
       "      <td>Closed with explanation</td>\n",
       "      <td>Yes</td>\n",
       "      <td>NaN</td>\n",
       "      <td>3274605</td>\n",
       "    </tr>\n",
       "    <tr>\n",
       "      <th>1</th>\n",
       "      <td>2019-11-01</td>\n",
       "      <td>Vehicle loan or lease</td>\n",
       "      <td>Loan</td>\n",
       "      <td>Struggling to pay your loan</td>\n",
       "      <td>Denied request to lower payments</td>\n",
       "      <td>I contacted Ally on Friday XX/XX/XXXX after fa...</td>\n",
       "      <td>Company has responded to the consumer and the ...</td>\n",
       "      <td>ALLY FINANCIAL INC.</td>\n",
       "      <td>NJ</td>\n",
       "      <td>088XX</td>\n",
       "      <td>NaN</td>\n",
       "      <td>Consent provided</td>\n",
       "      <td>Web</td>\n",
       "      <td>2019-11-01</td>\n",
       "      <td>Closed with explanation</td>\n",
       "      <td>Yes</td>\n",
       "      <td>NaN</td>\n",
       "      <td>3425257</td>\n",
       "    </tr>\n",
       "    <tr>\n",
       "      <th>2</th>\n",
       "      <td>2019-04-01</td>\n",
       "      <td>Credit reporting, credit repair services, or o...</td>\n",
       "      <td>Credit reporting</td>\n",
       "      <td>Incorrect information on your report</td>\n",
       "      <td>Account status incorrect</td>\n",
       "      <td>NaN</td>\n",
       "      <td>Company has responded to the consumer and the ...</td>\n",
       "      <td>TRANSUNION INTERMEDIATE HOLDINGS, INC.</td>\n",
       "      <td>PA</td>\n",
       "      <td>19067</td>\n",
       "      <td>NaN</td>\n",
       "      <td>Consent not provided</td>\n",
       "      <td>Web</td>\n",
       "      <td>2019-04-01</td>\n",
       "      <td>Closed with explanation</td>\n",
       "      <td>Yes</td>\n",
       "      <td>NaN</td>\n",
       "      <td>3198225</td>\n",
       "    </tr>\n",
       "    <tr>\n",
       "      <th>3</th>\n",
       "      <td>2021-11-01</td>\n",
       "      <td>Credit reporting, credit repair services, or o...</td>\n",
       "      <td>Credit reporting</td>\n",
       "      <td>Problem with a credit reporting company's inve...</td>\n",
       "      <td>Was not notified of investigation status or re...</td>\n",
       "      <td>NaN</td>\n",
       "      <td>NaN</td>\n",
       "      <td>TRANSUNION INTERMEDIATE HOLDINGS, INC.</td>\n",
       "      <td>GA</td>\n",
       "      <td>31707</td>\n",
       "      <td>NaN</td>\n",
       "      <td>NaN</td>\n",
       "      <td>Web</td>\n",
       "      <td>2021-11-01</td>\n",
       "      <td>In progress</td>\n",
       "      <td>Yes</td>\n",
       "      <td>NaN</td>\n",
       "      <td>4863965</td>\n",
       "    </tr>\n",
       "    <tr>\n",
       "      <th>4</th>\n",
       "      <td>2021-11-02</td>\n",
       "      <td>Debt collection</td>\n",
       "      <td>Medical debt</td>\n",
       "      <td>Took or threatened to take negative or legal a...</td>\n",
       "      <td>Threatened or suggested your credit would be d...</td>\n",
       "      <td>NaN</td>\n",
       "      <td>NaN</td>\n",
       "      <td>Medical Data Systems, Inc.</td>\n",
       "      <td>VA</td>\n",
       "      <td>22033</td>\n",
       "      <td>NaN</td>\n",
       "      <td>NaN</td>\n",
       "      <td>Web</td>\n",
       "      <td>2021-11-02</td>\n",
       "      <td>In progress</td>\n",
       "      <td>Yes</td>\n",
       "      <td>NaN</td>\n",
       "      <td>4866449</td>\n",
       "    </tr>\n",
       "  </tbody>\n",
       "</table>\n",
       "</div>"
      ],
      "text/plain": [
       "  Date received                                            Product  \\\n",
       "0    2019-06-13  Credit reporting, credit repair services, or o...   \n",
       "1    2019-11-01                              Vehicle loan or lease   \n",
       "2    2019-04-01  Credit reporting, credit repair services, or o...   \n",
       "3    2021-11-01  Credit reporting, credit repair services, or o...   \n",
       "4    2021-11-02                                    Debt collection   \n",
       "\n",
       "        Sub-product                                              Issue  \\\n",
       "0  Credit reporting               Incorrect information on your report   \n",
       "1              Loan                        Struggling to pay your loan   \n",
       "2  Credit reporting               Incorrect information on your report   \n",
       "3  Credit reporting  Problem with a credit reporting company's inve...   \n",
       "4      Medical debt  Took or threatened to take negative or legal a...   \n",
       "\n",
       "                                           Sub-issue  \\\n",
       "0                Information belongs to someone else   \n",
       "1                   Denied request to lower payments   \n",
       "2                           Account status incorrect   \n",
       "3  Was not notified of investigation status or re...   \n",
       "4  Threatened or suggested your credit would be d...   \n",
       "\n",
       "                        Consumer complaint narrative  \\\n",
       "0                                                NaN   \n",
       "1  I contacted Ally on Friday XX/XX/XXXX after fa...   \n",
       "2                                                NaN   \n",
       "3                                                NaN   \n",
       "4                                                NaN   \n",
       "\n",
       "                             Company public response  \\\n",
       "0                                                NaN   \n",
       "1  Company has responded to the consumer and the ...   \n",
       "2  Company has responded to the consumer and the ...   \n",
       "3                                                NaN   \n",
       "4                                                NaN   \n",
       "\n",
       "                                  Company State ZIP code Tags  \\\n",
       "0       CAPITAL ONE FINANCIAL CORPORATION    PA    186XX  NaN   \n",
       "1                     ALLY FINANCIAL INC.    NJ    088XX  NaN   \n",
       "2  TRANSUNION INTERMEDIATE HOLDINGS, INC.    PA    19067  NaN   \n",
       "3  TRANSUNION INTERMEDIATE HOLDINGS, INC.    GA    31707  NaN   \n",
       "4              Medical Data Systems, Inc.    VA    22033  NaN   \n",
       "\n",
       "  Consumer consent provided? Submitted via Date sent to company  \\\n",
       "0       Consent not provided           Web           2019-06-13   \n",
       "1           Consent provided           Web           2019-11-01   \n",
       "2       Consent not provided           Web           2019-04-01   \n",
       "3                        NaN           Web           2021-11-01   \n",
       "4                        NaN           Web           2021-11-02   \n",
       "\n",
       "  Company response to consumer Timely response? Consumer disputed?  \\\n",
       "0      Closed with explanation              Yes                NaN   \n",
       "1      Closed with explanation              Yes                NaN   \n",
       "2      Closed with explanation              Yes                NaN   \n",
       "3                  In progress              Yes                NaN   \n",
       "4                  In progress              Yes                NaN   \n",
       "\n",
       "   Complaint ID  \n",
       "0       3274605  \n",
       "1       3425257  \n",
       "2       3198225  \n",
       "3       4863965  \n",
       "4       4866449  "
      ]
     },
     "execution_count": 4,
     "metadata": {},
     "output_type": "execute_result"
    }
   ],
   "source": [
    "data.head()"
   ]
  },
  {
   "cell_type": "code",
   "execution_count": 5,
   "id": "69aeb218",
   "metadata": {},
   "outputs": [
    {
     "data": {
      "text/plain": [
       "'Receiving daily telephone call ( s ) from XXXX XXXX XXXX identifying themselves as from an attorney \\'s office and I am unable to decifer the name after asking 3 times. They ask me to confirm that my name is \" prior married name \". I ask what they want and they repeat the question. I responded yes and they hang up. \\n\\nThe next call from that number was asking me if I was a different name - my maiden name which I recently change to. When I asked for clarification, they hung up. \\n\\nI have received a total of 6 calls in approx 2 days. They never divulge what they want after attempting to verify my name ( s )'"
      ]
     },
     "execution_count": 5,
     "metadata": {},
     "output_type": "execute_result"
    }
   ],
   "source": [
    "data[\"Consumer complaint narrative\"][13]"
   ]
  },
  {
   "cell_type": "code",
   "execution_count": 6,
   "id": "3238b7e7",
   "metadata": {},
   "outputs": [
    {
     "data": {
      "text/plain": [
       "'Credit reporting, credit repair services, or other personal consumer reports'"
      ]
     },
     "execution_count": 6,
     "metadata": {},
     "output_type": "execute_result"
    }
   ],
   "source": [
    "data[\"Product\"][13]"
   ]
  },
  {
   "cell_type": "code",
   "execution_count": 7,
   "id": "2b379b06",
   "metadata": {},
   "outputs": [
    {
     "data": {
      "text/plain": [
       "\"I was looking through my report and noticed a vehicle that I returned to the dealership where it's reporting completely incorrect. I had the opportunity to talk to several lawmakers and friends, and learned some basic laws in regards to voluntary or repossession of a vehicle. Under the laws of MASS and UCC 9.506 as well as State RISA and MVISA statutes, a deficiency can not be claimed unless all of the required notices were properly and timely given, and all of the allowable redemption and cure time limits were adhered to. PLEASE HAVE THEM IMMEDIATELY REMOVE\""
      ]
     },
     "execution_count": 7,
     "metadata": {},
     "output_type": "execute_result"
    }
   ],
   "source": [
    "data[\"Consumer complaint narrative\"][3401]"
   ]
  },
  {
   "cell_type": "code",
   "execution_count": 8,
   "id": "e96c235a",
   "metadata": {},
   "outputs": [
    {
     "data": {
      "text/plain": [
       "'Vehicle loan or lease'"
      ]
     },
     "execution_count": 8,
     "metadata": {},
     "output_type": "execute_result"
    }
   ],
   "source": [
    "data[\"Product\"][3401]"
   ]
  },
  {
   "cell_type": "markdown",
   "id": "e8703d73",
   "metadata": {},
   "source": [
    "### Select only 'product' and 'Consumer complaint narrative' columns"
   ]
  },
  {
   "cell_type": "code",
   "execution_count": 9,
   "id": "37d254cf",
   "metadata": {},
   "outputs": [],
   "source": [
    "data = data[[\"Product\", \"Consumer complaint narrative\"]]"
   ]
  },
  {
   "cell_type": "code",
   "execution_count": 10,
   "id": "825c28b3",
   "metadata": {},
   "outputs": [
    {
     "data": {
      "text/html": [
       "<div>\n",
       "<style scoped>\n",
       "    .dataframe tbody tr th:only-of-type {\n",
       "        vertical-align: middle;\n",
       "    }\n",
       "\n",
       "    .dataframe tbody tr th {\n",
       "        vertical-align: top;\n",
       "    }\n",
       "\n",
       "    .dataframe thead th {\n",
       "        text-align: right;\n",
       "    }\n",
       "</style>\n",
       "<table border=\"1\" class=\"dataframe\">\n",
       "  <thead>\n",
       "    <tr style=\"text-align: right;\">\n",
       "      <th></th>\n",
       "      <th>Product</th>\n",
       "      <th>Consumer complaint narrative</th>\n",
       "    </tr>\n",
       "  </thead>\n",
       "  <tbody>\n",
       "    <tr>\n",
       "      <th>0</th>\n",
       "      <td>Credit reporting, credit repair services, or o...</td>\n",
       "      <td>NaN</td>\n",
       "    </tr>\n",
       "    <tr>\n",
       "      <th>1</th>\n",
       "      <td>Vehicle loan or lease</td>\n",
       "      <td>I contacted Ally on Friday XX/XX/XXXX after fa...</td>\n",
       "    </tr>\n",
       "    <tr>\n",
       "      <th>2</th>\n",
       "      <td>Credit reporting, credit repair services, or o...</td>\n",
       "      <td>NaN</td>\n",
       "    </tr>\n",
       "    <tr>\n",
       "      <th>3</th>\n",
       "      <td>Credit reporting, credit repair services, or o...</td>\n",
       "      <td>NaN</td>\n",
       "    </tr>\n",
       "    <tr>\n",
       "      <th>4</th>\n",
       "      <td>Debt collection</td>\n",
       "      <td>NaN</td>\n",
       "    </tr>\n",
       "  </tbody>\n",
       "</table>\n",
       "</div>"
      ],
      "text/plain": [
       "                                             Product  \\\n",
       "0  Credit reporting, credit repair services, or o...   \n",
       "1                              Vehicle loan or lease   \n",
       "2  Credit reporting, credit repair services, or o...   \n",
       "3  Credit reporting, credit repair services, or o...   \n",
       "4                                    Debt collection   \n",
       "\n",
       "                        Consumer complaint narrative  \n",
       "0                                                NaN  \n",
       "1  I contacted Ally on Friday XX/XX/XXXX after fa...  \n",
       "2                                                NaN  \n",
       "3                                                NaN  \n",
       "4                                                NaN  "
      ]
     },
     "execution_count": 10,
     "metadata": {},
     "output_type": "execute_result"
    }
   ],
   "source": [
    "data.head()"
   ]
  },
  {
   "cell_type": "code",
   "execution_count": 11,
   "id": "22663a73",
   "metadata": {},
   "outputs": [
    {
     "data": {
      "text/plain": [
       "Product                               0\n",
       "Consumer complaint narrative    1516903\n",
       "dtype: int64"
      ]
     },
     "execution_count": 11,
     "metadata": {},
     "output_type": "execute_result"
    }
   ],
   "source": [
    "data.isna().sum()"
   ]
  },
  {
   "cell_type": "markdown",
   "id": "97bd3c09",
   "metadata": {},
   "source": [
    "### Drop records with missing complaints"
   ]
  },
  {
   "cell_type": "code",
   "execution_count": 12,
   "id": "276541c5",
   "metadata": {},
   "outputs": [],
   "source": [
    "data.dropna(inplace=True)"
   ]
  },
  {
   "cell_type": "code",
   "execution_count": 13,
   "id": "21b4ecda",
   "metadata": {},
   "outputs": [
    {
     "data": {
      "text/plain": [
       "(809343, 2)"
      ]
     },
     "execution_count": 13,
     "metadata": {},
     "output_type": "execute_result"
    }
   ],
   "source": [
    "data.shape"
   ]
  },
  {
   "cell_type": "code",
   "execution_count": 14,
   "id": "24ad703f",
   "metadata": {},
   "outputs": [],
   "source": [
    "data.rename({\"Consumer complaint narrative\": \"Complaint\"}, \n",
    "            axis=1, inplace=True)"
   ]
  },
  {
   "cell_type": "code",
   "execution_count": 15,
   "id": "3e20fac3",
   "metadata": {},
   "outputs": [
    {
     "data": {
      "text/html": [
       "<div>\n",
       "<style scoped>\n",
       "    .dataframe tbody tr th:only-of-type {\n",
       "        vertical-align: middle;\n",
       "    }\n",
       "\n",
       "    .dataframe tbody tr th {\n",
       "        vertical-align: top;\n",
       "    }\n",
       "\n",
       "    .dataframe thead th {\n",
       "        text-align: right;\n",
       "    }\n",
       "</style>\n",
       "<table border=\"1\" class=\"dataframe\">\n",
       "  <thead>\n",
       "    <tr style=\"text-align: right;\">\n",
       "      <th></th>\n",
       "      <th>Product</th>\n",
       "      <th>Complaint</th>\n",
       "    </tr>\n",
       "  </thead>\n",
       "  <tbody>\n",
       "    <tr>\n",
       "      <th>1</th>\n",
       "      <td>Vehicle loan or lease</td>\n",
       "      <td>I contacted Ally on Friday XX/XX/XXXX after fa...</td>\n",
       "    </tr>\n",
       "    <tr>\n",
       "      <th>7</th>\n",
       "      <td>Credit reporting, credit repair services, or o...</td>\n",
       "      <td>Hello This complaint is against the three cred...</td>\n",
       "    </tr>\n",
       "    <tr>\n",
       "      <th>8</th>\n",
       "      <td>Credit reporting, credit repair services, or o...</td>\n",
       "      <td>I am a victim of Identity Theft &amp; currently ha...</td>\n",
       "    </tr>\n",
       "    <tr>\n",
       "      <th>10</th>\n",
       "      <td>Credit reporting, credit repair services, or o...</td>\n",
       "      <td>Two accounts are still on my credit history af...</td>\n",
       "    </tr>\n",
       "    <tr>\n",
       "      <th>13</th>\n",
       "      <td>Credit reporting, credit repair services, or o...</td>\n",
       "      <td>Receiving daily telephone call ( s ) from XXXX...</td>\n",
       "    </tr>\n",
       "  </tbody>\n",
       "</table>\n",
       "</div>"
      ],
      "text/plain": [
       "                                              Product  \\\n",
       "1                               Vehicle loan or lease   \n",
       "7   Credit reporting, credit repair services, or o...   \n",
       "8   Credit reporting, credit repair services, or o...   \n",
       "10  Credit reporting, credit repair services, or o...   \n",
       "13  Credit reporting, credit repair services, or o...   \n",
       "\n",
       "                                            Complaint  \n",
       "1   I contacted Ally on Friday XX/XX/XXXX after fa...  \n",
       "7   Hello This complaint is against the three cred...  \n",
       "8   I am a victim of Identity Theft & currently ha...  \n",
       "10  Two accounts are still on my credit history af...  \n",
       "13  Receiving daily telephone call ( s ) from XXXX...  "
      ]
     },
     "execution_count": 15,
     "metadata": {},
     "output_type": "execute_result"
    }
   ],
   "source": [
    "data.head()"
   ]
  },
  {
   "cell_type": "code",
   "execution_count": 16,
   "id": "7d898642",
   "metadata": {},
   "outputs": [
    {
     "data": {
      "text/plain": [
       "array(['Vehicle loan or lease',\n",
       "       'Credit reporting, credit repair services, or other personal consumer reports',\n",
       "       'Credit card or prepaid card',\n",
       "       'Money transfer, virtual currency, or money service', 'Mortgage',\n",
       "       'Payday loan, title loan, or personal loan', 'Debt collection',\n",
       "       'Checking or savings account', 'Student loan', 'Consumer Loan',\n",
       "       'Money transfers', 'Credit card', 'Bank account or service',\n",
       "       'Credit reporting', 'Prepaid card', 'Payday loan',\n",
       "       'Other financial service', 'Virtual currency'], dtype=object)"
      ]
     },
     "execution_count": 16,
     "metadata": {},
     "output_type": "execute_result"
    }
   ],
   "source": [
    "data[\"Product\"].unique()"
   ]
  },
  {
   "cell_type": "markdown",
   "id": "e8b81c09",
   "metadata": {},
   "source": [
    "### Create unique values for 'product'"
   ]
  },
  {
   "cell_type": "code",
   "execution_count": 17,
   "id": "041990b9",
   "metadata": {},
   "outputs": [],
   "source": [
    "product_map = {'Vehicle loan or lease': 'vehicle_loan',\n",
    "              'Credit reporting, credit repair services, or other personal consumer reports':'credit_report',\n",
    "              'Credit card or prepaid card': 'card',\n",
    "              'Money transfer, virtual currency, or money service': 'money_transfer',\n",
    "              'virtual currency': 'money_transfer',\n",
    "              'Mortgage': 'mortgage',\n",
    "               'Payday loan, title loan, or personal loan': 'loan',\n",
    "               'Debt collection': 'debt_collection',\n",
    "               'Checking or savings account': 'savings_account',\n",
    "               'Credit card': 'card',\n",
    "               'Bank account or service': 'savings_account',\n",
    "               'Credit reporting': 'credit_report',\n",
    "               'Prepaid card': 'card',\n",
    "               'Payday loan': 'loan',\n",
    "               'Other financial service': 'others',\n",
    "               'Virtual currency': 'money_transfer',\n",
    "               'Student loan': 'loan',\n",
    "               'Consumer Loan': 'loan',\n",
    "               'Money transfers': 'money_transfer'\n",
    "              }"
   ]
  },
  {
   "cell_type": "code",
   "execution_count": 18,
   "id": "8dae17db",
   "metadata": {},
   "outputs": [],
   "source": [
    "data.replace({\"Product\": product_map}, inplace=True)"
   ]
  },
  {
   "cell_type": "code",
   "execution_count": 19,
   "id": "5ad74865",
   "metadata": {},
   "outputs": [
    {
     "data": {
      "text/html": [
       "<div>\n",
       "<style scoped>\n",
       "    .dataframe tbody tr th:only-of-type {\n",
       "        vertical-align: middle;\n",
       "    }\n",
       "\n",
       "    .dataframe tbody tr th {\n",
       "        vertical-align: top;\n",
       "    }\n",
       "\n",
       "    .dataframe thead th {\n",
       "        text-align: right;\n",
       "    }\n",
       "</style>\n",
       "<table border=\"1\" class=\"dataframe\">\n",
       "  <thead>\n",
       "    <tr style=\"text-align: right;\">\n",
       "      <th></th>\n",
       "      <th>Product</th>\n",
       "      <th>Complaint</th>\n",
       "    </tr>\n",
       "  </thead>\n",
       "  <tbody>\n",
       "    <tr>\n",
       "      <th>1</th>\n",
       "      <td>vehicle_loan</td>\n",
       "      <td>I contacted Ally on Friday XX/XX/XXXX after fa...</td>\n",
       "    </tr>\n",
       "    <tr>\n",
       "      <th>7</th>\n",
       "      <td>credit_report</td>\n",
       "      <td>Hello This complaint is against the three cred...</td>\n",
       "    </tr>\n",
       "    <tr>\n",
       "      <th>8</th>\n",
       "      <td>credit_report</td>\n",
       "      <td>I am a victim of Identity Theft &amp; currently ha...</td>\n",
       "    </tr>\n",
       "    <tr>\n",
       "      <th>10</th>\n",
       "      <td>credit_report</td>\n",
       "      <td>Two accounts are still on my credit history af...</td>\n",
       "    </tr>\n",
       "    <tr>\n",
       "      <th>13</th>\n",
       "      <td>credit_report</td>\n",
       "      <td>Receiving daily telephone call ( s ) from XXXX...</td>\n",
       "    </tr>\n",
       "  </tbody>\n",
       "</table>\n",
       "</div>"
      ],
      "text/plain": [
       "          Product                                          Complaint\n",
       "1    vehicle_loan  I contacted Ally on Friday XX/XX/XXXX after fa...\n",
       "7   credit_report  Hello This complaint is against the three cred...\n",
       "8   credit_report  I am a victim of Identity Theft & currently ha...\n",
       "10  credit_report  Two accounts are still on my credit history af...\n",
       "13  credit_report  Receiving daily telephone call ( s ) from XXXX..."
      ]
     },
     "execution_count": 19,
     "metadata": {},
     "output_type": "execute_result"
    }
   ],
   "source": [
    "data.head()"
   ]
  },
  {
   "cell_type": "markdown",
   "id": "5f11d792",
   "metadata": {},
   "source": [
    "### Plot distribution of 'product' column"
   ]
  },
  {
   "cell_type": "code",
   "execution_count": 20,
   "id": "4aed42c5",
   "metadata": {},
   "outputs": [
    {
     "data": {
      "image/png": "[encoded data removed]",
      "text/plain": [
       "<Figure size 432x288 with 1 Axes>"
      ]
     },
     "metadata": {
      "needs_background": "light"
     },
     "output_type": "display_data"
    }
   ],
   "source": [
    "sns.countplot(x=\"Product\", data=data)\n",
    "plt.xticks(rotation=90)\n",
    "plt.show()"
   ]
  },
  {
   "cell_type": "code",
   "execution_count": 21,
   "id": "b812a5cd",
   "metadata": {},
   "outputs": [
    {
     "data": {
      "text/plain": [
       "credit_report      348053\n",
       "debt_collection    157381\n",
       "mortgage            84461\n",
       "card                81042\n",
       "savings_account     52274\n",
       "loan                50710\n",
       "money_transfer      20096\n",
       "vehicle_loan        15034\n",
       "others                292\n",
       "Name: Product, dtype: int64"
      ]
     },
     "execution_count": 21,
     "metadata": {},
     "output_type": "execute_result"
    }
   ],
   "source": [
    "data[\"Product\"].value_counts()"
   ]
  },
  {
   "cell_type": "code",
   "execution_count": 22,
   "id": "6304cf68",
   "metadata": {},
   "outputs": [],
   "source": [
    "complaints = list(data[\"Complaint\"])"
   ]
  },
  {
   "cell_type": "code",
   "execution_count": 23,
   "id": "247fa2d7",
   "metadata": {},
   "outputs": [
    {
     "data": {
      "text/plain": [
       "809343"
      ]
     },
     "execution_count": 23,
     "metadata": {},
     "output_type": "execute_result"
    }
   ],
   "source": [
    "len(complaints)"
   ]
  },
  {
   "cell_type": "markdown",
   "id": "7b641d87",
   "metadata": {},
   "source": [
    "### Convert data to lower case"
   ]
  },
  {
   "cell_type": "code",
   "execution_count": 24,
   "id": "d09da722",
   "metadata": {},
   "outputs": [
    {
     "name": "stderr",
     "output_type": "stream",
     "text": [
      "100%|██████████████████████████████████████████████████████████████████████| 809343/809343 [00:01<00:00, 556638.62it/s]\n"
     ]
    }
   ],
   "source": [
    "complaints = [c.lower() for c in tqdm(complaints) ]"
   ]
  },
  {
   "cell_type": "code",
   "execution_count": 25,
   "id": "4c420313",
   "metadata": {},
   "outputs": [
    {
     "data": {
      "text/plain": [
       "'my credit reports list monies owed to xxxx. i have written to the collection agency, xxxx xxxx xxxx requesting proof that i owe monies on this account, but none was ever sent. i notified the credit agencies that this creditor never sent me the required proof, yet they continue to list this account on my credit report. \\n\\nmy credit reports list xxxx xxxx xxxx and xxxx for monies owed to xxxx. i submitted documentation that showed that the original creditor was paid however, the credit reporting agencies continue to list xxxx xxxx on my credit report. furthermore, two separate collection agencies can not be listed on my creditreport over the same account. \\n\\nmy credit reports list a bankruptcy that should have been deleted since the 7 years of reporting it has expired.'"
      ]
     },
     "execution_count": 25,
     "metadata": {},
     "output_type": "execute_result"
    }
   ],
   "source": [
    "complaints[13]"
   ]
  },
  {
   "cell_type": "code",
   "execution_count": 26,
   "id": "66d2a434",
   "metadata": {},
   "outputs": [
    {
     "data": {
      "text/plain": [
       "'xxxx xxxx  sent me a email that it looked like my personal data may had been compromised. i opened it up and reviewed everything and there was several unknown inquiries and accounts that certainly did not belong to me. i pulled my credit to make sure, and these accounts i am reporting are definitely not mine. please remove these items from my report. \\n\\nbankruptcy chapter xxxx-dismissed xxxx {$0.00}'"
      ]
     },
     "execution_count": 26,
     "metadata": {},
     "output_type": "execute_result"
    }
   ],
   "source": [
    "complaints[3401]"
   ]
  },
  {
   "cell_type": "markdown",
   "id": "086bc1a0",
   "metadata": {},
   "source": [
    "### Tokenize the text"
   ]
  },
  {
   "cell_type": "code",
   "execution_count": 27,
   "id": "9b3dd54b",
   "metadata": {},
   "outputs": [
    {
     "name": "stderr",
     "output_type": "stream",
     "text": [
      "100%|█████████████████████████████████████████████████████████████████████████| 809343/809343 [19:02<00:00, 708.24it/s]\n"
     ]
    }
   ],
   "source": [
    "tokens = [word_tokenize(c) for c in tqdm(complaints)]"
   ]
  },
  {
   "cell_type": "code",
   "execution_count": 28,
   "id": "529a68eb",
   "metadata": {},
   "outputs": [
    {
     "data": {
      "text/plain": [
       "['my',\n",
       " 'credit',\n",
       " 'reports',\n",
       " 'list',\n",
       " 'monies',\n",
       " 'owed',\n",
       " 'to',\n",
       " 'xxxx',\n",
       " '.',\n",
       " 'i',\n",
       " 'have',\n",
       " 'written',\n",
       " 'to',\n",
       " 'the',\n",
       " 'collection',\n",
       " 'agency',\n",
       " ',',\n",
       " 'xxxx',\n",
       " 'xxxx',\n",
       " 'xxxx',\n",
       " 'requesting',\n",
       " 'proof',\n",
       " 'that',\n",
       " 'i',\n",
       " 'owe',\n",
       " 'monies',\n",
       " 'on',\n",
       " 'this',\n",
       " 'account',\n",
       " ',',\n",
       " 'but',\n",
       " 'none',\n",
       " 'was',\n",
       " 'ever',\n",
       " 'sent',\n",
       " '.',\n",
       " 'i',\n",
       " 'notified',\n",
       " 'the',\n",
       " 'credit',\n",
       " 'agencies',\n",
       " 'that',\n",
       " 'this',\n",
       " 'creditor',\n",
       " 'never',\n",
       " 'sent',\n",
       " 'me',\n",
       " 'the',\n",
       " 'required',\n",
       " 'proof',\n",
       " ',',\n",
       " 'yet',\n",
       " 'they',\n",
       " 'continue',\n",
       " 'to',\n",
       " 'list',\n",
       " 'this',\n",
       " 'account',\n",
       " 'on',\n",
       " 'my',\n",
       " 'credit',\n",
       " 'report',\n",
       " '.',\n",
       " 'my',\n",
       " 'credit',\n",
       " 'reports',\n",
       " 'list',\n",
       " 'xxxx',\n",
       " 'xxxx',\n",
       " 'xxxx',\n",
       " 'and',\n",
       " 'xxxx',\n",
       " 'for',\n",
       " 'monies',\n",
       " 'owed',\n",
       " 'to',\n",
       " 'xxxx',\n",
       " '.',\n",
       " 'i',\n",
       " 'submitted',\n",
       " 'documentation',\n",
       " 'that',\n",
       " 'showed',\n",
       " 'that',\n",
       " 'the',\n",
       " 'original',\n",
       " 'creditor',\n",
       " 'was',\n",
       " 'paid',\n",
       " 'however',\n",
       " ',',\n",
       " 'the',\n",
       " 'credit',\n",
       " 'reporting',\n",
       " 'agencies',\n",
       " 'continue',\n",
       " 'to',\n",
       " 'list',\n",
       " 'xxxx',\n",
       " 'xxxx',\n",
       " 'on',\n",
       " 'my',\n",
       " 'credit',\n",
       " 'report',\n",
       " '.',\n",
       " 'furthermore',\n",
       " ',',\n",
       " 'two',\n",
       " 'separate',\n",
       " 'collection',\n",
       " 'agencies',\n",
       " 'can',\n",
       " 'not',\n",
       " 'be',\n",
       " 'listed',\n",
       " 'on',\n",
       " 'my',\n",
       " 'creditreport',\n",
       " 'over',\n",
       " 'the',\n",
       " 'same',\n",
       " 'account',\n",
       " '.',\n",
       " 'my',\n",
       " 'credit',\n",
       " 'reports',\n",
       " 'list',\n",
       " 'a',\n",
       " 'bankruptcy',\n",
       " 'that',\n",
       " 'should',\n",
       " 'have',\n",
       " 'been',\n",
       " 'deleted',\n",
       " 'since',\n",
       " 'the',\n",
       " '7',\n",
       " 'years',\n",
       " 'of',\n",
       " 'reporting',\n",
       " 'it',\n",
       " 'has',\n",
       " 'expired',\n",
       " '.']"
      ]
     },
     "execution_count": 28,
     "metadata": {},
     "output_type": "execute_result"
    }
   ],
   "source": [
    "tokens[13]"
   ]
  },
  {
   "cell_type": "code",
   "execution_count": 29,
   "id": "e57445eb",
   "metadata": {},
   "outputs": [
    {
     "data": {
      "text/plain": [
       "['xxxx',\n",
       " 'xxxx',\n",
       " 'sent',\n",
       " 'me',\n",
       " 'a',\n",
       " 'email',\n",
       " 'that',\n",
       " 'it',\n",
       " 'looked',\n",
       " 'like',\n",
       " 'my',\n",
       " 'personal',\n",
       " 'data',\n",
       " 'may',\n",
       " 'had',\n",
       " 'been',\n",
       " 'compromised',\n",
       " '.',\n",
       " 'i',\n",
       " 'opened',\n",
       " 'it',\n",
       " 'up',\n",
       " 'and',\n",
       " 'reviewed',\n",
       " 'everything',\n",
       " 'and',\n",
       " 'there',\n",
       " 'was',\n",
       " 'several',\n",
       " 'unknown',\n",
       " 'inquiries',\n",
       " 'and',\n",
       " 'accounts',\n",
       " 'that',\n",
       " 'certainly',\n",
       " 'did',\n",
       " 'not',\n",
       " 'belong',\n",
       " 'to',\n",
       " 'me',\n",
       " '.',\n",
       " 'i',\n",
       " 'pulled',\n",
       " 'my',\n",
       " 'credit',\n",
       " 'to',\n",
       " 'make',\n",
       " 'sure',\n",
       " ',',\n",
       " 'and',\n",
       " 'these',\n",
       " 'accounts',\n",
       " 'i',\n",
       " 'am',\n",
       " 'reporting',\n",
       " 'are',\n",
       " 'definitely',\n",
       " 'not',\n",
       " 'mine',\n",
       " '.',\n",
       " 'please',\n",
       " 'remove',\n",
       " 'these',\n",
       " 'items',\n",
       " 'from',\n",
       " 'my',\n",
       " 'report',\n",
       " '.',\n",
       " 'bankruptcy',\n",
       " 'chapter',\n",
       " 'xxxx-dismissed',\n",
       " 'xxxx',\n",
       " '{',\n",
       " '$',\n",
       " '0.00',\n",
       " '}']"
      ]
     },
     "execution_count": 29,
     "metadata": {},
     "output_type": "execute_result"
    }
   ],
   "source": [
    "tokens[3401]"
   ]
  },
  {
   "cell_type": "markdown",
   "id": "fd979369",
   "metadata": {},
   "source": [
    "### Remove stopwords"
   ]
  },
  {
   "cell_type": "code",
   "execution_count": 31,
   "id": "7377d1ba",
   "metadata": {},
   "outputs": [],
   "source": [
    "sw = stopwords.words('english')"
   ]
  },
  {
   "cell_type": "code",
   "execution_count": 32,
   "id": "6d29b946",
   "metadata": {},
   "outputs": [
    {
     "data": {
      "text/plain": [
       "['i', 'me', 'my', 'myself', 'we', 'our', 'ours', 'ourselves', 'you', \"you're\"]"
      ]
     },
     "execution_count": 32,
     "metadata": {},
     "output_type": "execute_result"
    }
   ],
   "source": [
    "sw[:10]"
   ]
  },
  {
   "cell_type": "code",
   "execution_count": null,
   "id": "349e6caf",
   "metadata": {
    "scrolled": true
   },
   "outputs": [
    {
     "name": "stderr",
     "output_type": "stream",
     "text": [
      "\n",
      "  0%|                                                                                       | 0/809343 [00:00<?, ?it/s]\u001b[A\n",
      "  0%|                                                                           | 164/809343 [00:00<08:16, 1628.25it/s]\u001b[A\n",
      "  0%|                                                                           | 343/809343 [00:00<07:51, 1715.77it/s]\u001b[A\n",
      "  0%|                                                                           | 541/809343 [00:00<07:21, 1830.93it/s]\u001b[A\n",
      "  0%|                                                                           | 757/809343 [00:00<06:53, 1954.70it/s]\u001b[A\n",
      "  0%|                                                                           | 959/809343 [00:00<06:51, 1965.93it/s]\u001b[A\n",
      "  0%|                                                                          | 1156/809343 [00:00<06:55, 1942.89it/s]\u001b[A\n",
      "  0%|                                                                          | 1351/809343 [00:00<06:56, 1941.22it/s]\u001b[A\n",
      "  0%|▏                                                                         | 1546/809343 [00:00<07:10, 1874.52it/s]\u001b[A\n",
      "  0%|▏                                                                         | 1748/809343 [00:00<07:07, 1888.76it/s]\u001b[A\n",
      "  0%|▏                                                                         | 1975/809343 [00:01<06:54, 1945.97it/s]\u001b[A\n",
      "  0%|▏                                                                         | 2232/809343 [00:01<06:30, 2068.95it/s]\u001b[A\n",
      "  0%|▏                                                                         | 2492/809343 [00:01<06:13, 2161.04it/s]\u001b[A\n",
      "  0%|▎                                                                         | 2737/809343 [00:01<06:03, 2217.43it/s]\u001b[A\n",
      "  0%|▎                                                                         | 2959/809343 [00:01<06:19, 2125.22it/s]\u001b[A\n",
      "  0%|▎                                                                         | 3213/809343 [00:01<06:00, 2237.87it/s]\u001b[A\n",
      "  0%|▎                                                                         | 3448/809343 [00:01<05:55, 2265.34it/s]\u001b[A\n",
      "  0%|▎                                                                         | 3676/809343 [00:01<06:22, 2106.23it/s]\u001b[A\n",
      "  0%|▎                                                                         | 3893/809343 [00:01<06:19, 2119.85it/s]\u001b[A\n",
      "  1%|▍                                                                         | 4107/809343 [00:02<06:27, 2080.03it/s]\u001b[A\n",
      "  1%|▍                                                                         | 4317/809343 [00:02<06:31, 2057.91it/s]\u001b[A\n",
      "  1%|▍                                                                         | 4524/809343 [00:02<06:51, 1957.00it/s]\u001b[A\n",
      "  1%|▍                                                                         | 4754/809343 [00:02<06:32, 2048.66it/s]\u001b[A\n",
      "  1%|▍                                                                         | 4961/809343 [00:02<06:46, 1977.58it/s]\u001b[A\n",
      "  1%|▍                                                                         | 5197/809343 [00:02<06:26, 2080.94it/s]\u001b[A\n",
      "  1%|▍                                                                         | 5407/809343 [00:02<06:39, 2013.01it/s]\u001b[A\n",
      "  1%|▌                                                                         | 5622/809343 [00:02<06:32, 2047.55it/s]\u001b[A\n",
      "  1%|▌                                                                         | 5828/809343 [00:02<06:47, 1973.43it/s]\u001b[A\n",
      "  1%|▌                                                                         | 6027/809343 [00:02<06:48, 1968.52it/s]\u001b[A\n",
      "  1%|▌                                                                         | 6225/809343 [00:03<06:48, 1965.70it/s]\u001b[A\n",
      "  1%|▌                                                                         | 6458/809343 [00:03<06:28, 2067.02it/s]\u001b[A\n",
      "  1%|▌                                                                         | 6666/809343 [00:03<06:43, 1990.22it/s]\u001b[A\n",
      "  1%|▋                                                                         | 6866/809343 [00:03<06:53, 1939.06it/s]\u001b[A\n",
      "  1%|▋                                                                         | 7102/809343 [00:03<06:31, 2048.90it/s]\u001b[A\n",
      "  1%|▋                                                                         | 7358/809343 [00:03<06:05, 2191.60it/s]\u001b[A\n",
      "  1%|▋                                                                         | 7579/809343 [00:03<06:32, 2043.83it/s]\u001b[A\n",
      "  1%|▋                                                                         | 7788/809343 [00:03<06:30, 2052.52it/s]\u001b[A\n",
      "  1%|▋                                                                         | 8036/809343 [00:03<06:08, 2172.72it/s]\u001b[A\n",
      "  1%|▊                                                                         | 8256/809343 [00:04<06:24, 2085.97it/s]\u001b[A\n",
      "  1%|▊                                                                         | 8481/809343 [00:04<06:16, 2129.83it/s]\u001b[A\n",
      "  1%|▊                                                                         | 8717/809343 [00:04<06:05, 2191.45it/s]\u001b[A\n",
      "  1%|▊                                                                         | 8957/809343 [00:04<05:56, 2247.13it/s]\u001b[A\n",
      "  1%|▊                                                                         | 9183/809343 [00:04<06:07, 2176.31it/s]\u001b[A\n",
      "  1%|▊                                                                         | 9434/809343 [00:04<05:53, 2261.36it/s]\u001b[A\n",
      "  1%|▉                                                                         | 9662/809343 [00:04<06:13, 2139.28it/s]\u001b[A\n",
      "  1%|▉                                                                         | 9886/809343 [00:04<06:09, 2165.84it/s]\u001b[A\n",
      "  1%|▉                                                                        | 10107/809343 [00:04<06:07, 2172.53it/s]\u001b[A\n",
      "  1%|▉                                                                        | 10354/809343 [00:04<05:54, 2251.80it/s]\u001b[A\n",
      "  1%|▉                                                                        | 10581/809343 [00:05<05:58, 2229.24it/s]\u001b[A\n",
      "  1%|▉                                                                        | 10805/809343 [00:05<06:32, 2032.85it/s]\u001b[A\n",
      "  1%|▉                                                                        | 11036/809343 [00:05<06:18, 2108.58it/s]\u001b[A\n",
      "  1%|█                                                                        | 11250/809343 [00:05<06:26, 2064.92it/s]\u001b[A\n",
      "  1%|█                                                                        | 11478/809343 [00:05<06:16, 2120.90it/s]\u001b[A\n",
      "  1%|█                                                                        | 11697/809343 [00:05<06:13, 2137.62it/s]\u001b[A\n",
      "  1%|█                                                                        | 11930/809343 [00:05<06:04, 2187.91it/s]\u001b[A\n",
      "  2%|█                                                                        | 12161/809343 [00:05<05:59, 2220.33it/s]\u001b[A\n",
      "  2%|█                                                                        | 12407/809343 [00:05<05:48, 2286.00it/s]\u001b[A\n",
      "  2%|█▏                                                                       | 12640/809343 [00:06<05:47, 2294.06it/s]\u001b[A\n",
      "  2%|█▏                                                                       | 12870/809343 [00:06<05:48, 2284.10it/s]\u001b[A\n",
      "  2%|█▏                                                                       | 13099/809343 [00:06<05:49, 2280.89it/s]\u001b[A\n",
      "  2%|█▏                                                                       | 13352/809343 [00:06<05:38, 2350.05it/s]\u001b[A\n",
      "  2%|█▏                                                                       | 13590/809343 [00:06<05:37, 2354.70it/s]\u001b[A\n",
      "  2%|█▏                                                                       | 13845/809343 [00:06<05:30, 2407.47it/s]\u001b[A\n",
      "  2%|█▎                                                                       | 14129/809343 [00:06<05:15, 2523.67it/s]\u001b[A\n",
      "  2%|█▎                                                                       | 14382/809343 [00:06<05:17, 2505.23it/s]\u001b[A\n",
      "  2%|█▎                                                                       | 14633/809343 [00:06<05:21, 2471.79it/s]\u001b[A\n"
     ]
    },
    {
     "name": "stderr",
     "output_type": "stream",
     "text": [
      "  2%|█▎                                                                       | 14881/809343 [00:06<05:25, 2440.26it/s]\u001b[A\n",
      "  2%|█▎                                                                       | 15141/809343 [00:07<05:19, 2481.90it/s]\u001b[A\n",
      "  2%|█▍                                                                       | 15390/809343 [00:07<05:31, 2394.28it/s]\u001b[A\n",
      "  2%|█▍                                                                       | 15684/809343 [00:07<05:11, 2546.65it/s]\u001b[A\n",
      "  2%|█▍                                                                       | 15940/809343 [00:07<05:20, 2478.19it/s]\u001b[A\n",
      "  2%|█▍                                                                       | 16189/809343 [00:07<05:41, 2323.29it/s]\u001b[A\n",
      "  2%|█▍                                                                       | 16442/809343 [00:07<05:33, 2377.17it/s]\u001b[A\n",
      "  2%|█▌                                                                       | 16682/809343 [00:07<05:40, 2326.31it/s]\u001b[A\n",
      "  2%|█▌                                                                       | 16920/809343 [00:07<05:39, 2336.71it/s]\u001b[A\n",
      "  2%|█▌                                                                       | 17191/809343 [00:07<05:24, 2438.84it/s]\u001b[A\n",
      "  2%|█▌                                                                       | 17436/809343 [00:08<05:25, 2429.87it/s]\u001b[A\n",
      "  2%|█▌                                                                       | 17680/809343 [00:08<05:48, 2269.26it/s]\u001b[A\n",
      "  2%|█▌                                                                       | 17910/809343 [00:08<05:53, 2241.92it/s]\u001b[A\n",
      "  2%|█▋                                                                       | 18173/809343 [00:08<05:37, 2346.85it/s]\u001b[A\n",
      "  2%|█▋                                                                       | 18410/809343 [00:08<05:45, 2289.64it/s]\u001b[A\n",
      "  2%|█▋                                                                       | 18641/809343 [00:08<05:49, 2261.38it/s]\u001b[A\n",
      "  2%|█▋                                                                       | 18912/809343 [00:08<05:31, 2385.20it/s]\u001b[A\n",
      "  2%|█▋                                                                       | 19152/809343 [00:08<05:32, 2372.96it/s]\u001b[A\n",
      "  2%|█▊                                                                       | 19403/809343 [00:08<05:28, 2407.47it/s]\u001b[A\n",
      "  2%|█▊                                                                       | 19645/809343 [00:08<05:28, 2406.01it/s]\u001b[A\n",
      "  2%|█▊                                                                       | 19887/809343 [00:09<05:40, 2320.80it/s]\u001b[A\n",
      "  2%|█▊                                                                       | 20120/809343 [00:09<06:03, 2169.63it/s]\u001b[A\n",
      "  3%|█▊                                                                       | 20340/809343 [00:09<06:10, 2126.73it/s]\u001b[A\n",
      "  3%|█▊                                                                       | 20555/809343 [00:09<06:25, 2046.14it/s]\u001b[A\n",
      "  3%|█▉                                                                       | 20799/809343 [00:09<06:07, 2145.12it/s]\u001b[A\n",
      "  3%|█▉                                                                       | 21016/809343 [00:09<06:11, 2122.75it/s]\u001b[A\n",
      "  3%|█▉                                                                       | 21241/809343 [00:09<06:05, 2154.51it/s]\u001b[A\n",
      "  3%|█▉                                                                       | 21462/809343 [00:09<06:03, 2167.95it/s]\u001b[A\n",
      "  3%|█▉                                                                       | 21680/809343 [00:09<06:09, 2129.74it/s]\u001b[A\n",
      "  3%|█▉                                                                       | 21894/809343 [00:10<06:25, 2041.84it/s]\u001b[A\n",
      "  3%|█▉                                                                       | 22100/809343 [00:10<06:28, 2025.76it/s]\u001b[A\n",
      "  3%|██                                                                       | 22304/809343 [00:10<06:33, 1997.99it/s]\u001b[A\n",
      "  3%|██                                                                       | 22519/809343 [00:10<06:25, 2041.22it/s]\u001b[A\n",
      "  3%|██                                                                       | 22772/809343 [00:10<06:01, 2178.77it/s]\u001b[A\n",
      "  3%|██                                                                       | 23027/809343 [00:10<05:44, 2282.70it/s]\u001b[A\n",
      "  3%|██                                                                       | 23259/809343 [00:10<05:42, 2292.65it/s]\u001b[A\n",
      "  3%|██                                                                       | 23513/809343 [00:10<05:32, 2360.80it/s]\u001b[A\n",
      "  3%|██▏                                                                      | 23750/809343 [00:10<05:36, 2337.70it/s]\u001b[A\n",
      "  3%|██▏                                                                      | 24008/809343 [00:10<05:26, 2404.11it/s]\u001b[A\n",
      "  3%|██▏                                                                      | 24282/809343 [00:11<05:14, 2498.25it/s]\u001b[A\n",
      "  3%|██▏                                                                      | 24550/809343 [00:11<05:08, 2546.46it/s]\u001b[A\n",
      "  3%|██▏                                                                      | 24805/809343 [00:11<05:12, 2507.07it/s]\u001b[A\n",
      "  3%|██▎                                                                      | 25056/809343 [00:11<05:25, 2412.42it/s]\u001b[A\n",
      "  3%|██▎                                                                      | 25299/809343 [00:11<05:30, 2371.38it/s]\u001b[A\n",
      "  3%|██▎                                                                      | 25563/809343 [00:11<05:20, 2443.52it/s]\u001b[A\n",
      "  3%|██▎                                                                      | 25809/809343 [00:11<05:30, 2367.87it/s]\u001b[A\n",
      "  3%|██▎                                                                      | 26047/809343 [00:11<05:41, 2294.25it/s]\u001b[A\n",
      "  3%|██▎                                                                      | 26295/809343 [00:11<05:34, 2342.08it/s]\u001b[A\n",
      "  3%|██▍                                                                      | 26553/809343 [00:12<05:25, 2405.55it/s]\u001b[A\n",
      "  3%|██▍                                                                      | 26833/809343 [00:12<05:11, 2514.84it/s]\u001b[A\n",
      "  3%|██▍                                                                      | 27112/809343 [00:12<05:02, 2582.71it/s]\u001b[A\n",
      "  3%|██▍                                                                      | 27371/809343 [00:12<05:17, 2463.88it/s]\u001b[A\n",
      "  3%|██▍                                                                      | 27619/809343 [00:12<05:32, 2352.41it/s]\u001b[A\n",
      "  3%|██▌                                                                      | 27880/809343 [00:12<05:22, 2419.65it/s]\u001b[A\n",
      "  3%|██▌                                                                      | 28124/809343 [00:12<05:22, 2420.64it/s]\u001b[A\n",
      "  4%|██▌                                                                      | 28368/809343 [00:12<05:23, 2413.93it/s]\u001b[A\n",
      "  4%|██▌                                                                      | 28618/809343 [00:12<05:21, 2427.02it/s]\u001b[A\n",
      "  4%|██▌                                                                      | 28873/809343 [00:12<05:17, 2457.79it/s]\u001b[A\n",
      "  4%|██▋                                                                      | 29136/809343 [00:13<05:11, 2503.11it/s]\u001b[A\n",
      "  4%|██▋                                                                      | 29387/809343 [00:13<05:29, 2367.39it/s]\u001b[A\n",
      "  4%|██▋                                                                      | 29626/809343 [00:13<05:38, 2303.48it/s]\u001b[A\n",
      "  4%|██▋                                                                      | 29858/809343 [00:13<05:38, 2301.79it/s]\u001b[A\n",
      "  4%|██▋                                                                      | 30118/809343 [00:13<05:34, 2328.50it/s]\u001b[A\n",
      "  4%|██▋                                                                      | 30417/809343 [00:13<05:20, 2430.41it/s]\u001b[A\n",
      "  4%|██▊                                                                      | 30661/809343 [00:13<05:20, 2430.98it/s]\u001b[A\n",
      "  4%|██▊                                                                      | 30905/809343 [00:13<05:26, 2386.15it/s]\u001b[A\n"
     ]
    },
    {
     "name": "stderr",
     "output_type": "stream",
     "text": [
      "  4%|██▊                                                                      | 31188/809343 [00:13<05:17, 2447.85it/s]\u001b[A\n",
      "  4%|██▊                                                                      | 31461/809343 [00:14<05:16, 2459.36it/s]\u001b[A\n",
      "  4%|██▊                                                                      | 31707/809343 [00:14<05:19, 2434.35it/s]\u001b[A\n",
      "  4%|██▉                                                                      | 31951/809343 [00:14<05:47, 2239.55it/s]\u001b[A\n",
      "  4%|██▉                                                                      | 32210/809343 [00:14<05:45, 2248.75it/s]\u001b[A\n",
      "  4%|██▉                                                                      | 32437/809343 [00:14<06:00, 2156.75it/s]\u001b[A\n",
      "  4%|██▉                                                                      | 32713/809343 [00:14<05:43, 2260.47it/s]\u001b[A\n",
      "  4%|██▉                                                                      | 32948/809343 [00:14<05:41, 2274.84it/s]\u001b[A\n",
      "  4%|██▉                                                                      | 33177/809343 [00:14<05:47, 2232.06it/s]\u001b[A\n",
      "  4%|███                                                                      | 33401/809343 [00:14<06:12, 2084.76it/s]\u001b[A\n",
      "  4%|███                                                                      | 33612/809343 [00:15<06:36, 1956.09it/s]\u001b[A\n",
      "  4%|███                                                                      | 33885/809343 [00:15<06:12, 2080.19it/s]\u001b[A\n",
      "  4%|███                                                                      | 34129/809343 [00:15<06:05, 2121.01it/s]\u001b[A\n",
      "  4%|███                                                                      | 34358/809343 [00:15<06:04, 2125.34it/s]\u001b[A\n",
      "  4%|███                                                                      | 34572/809343 [00:15<06:08, 2100.40it/s]\u001b[A\n",
      "  4%|███▏                                                                     | 34855/809343 [00:15<05:36, 2300.02it/s]\u001b[A\n",
      "  4%|███▏                                                                     | 35130/809343 [00:15<05:19, 2423.60it/s]\u001b[A\n",
      "  4%|███▏                                                                     | 35375/809343 [00:15<05:48, 2221.52it/s]\u001b[A\n",
      "  4%|███▏                                                                     | 35602/809343 [00:15<05:48, 2218.11it/s]\u001b[A\n",
      "  4%|███▏                                                                     | 35827/809343 [00:16<05:56, 2168.27it/s]\u001b[A\n",
      "  4%|███▎                                                                     | 36046/809343 [00:16<06:02, 2134.72it/s]\u001b[A\n",
      "  4%|███▎                                                                     | 36284/809343 [00:16<05:51, 2199.37it/s]\u001b[A\n",
      "  5%|███▎                                                                     | 36506/809343 [00:16<05:58, 2156.77it/s]\u001b[A\n",
      "  5%|███▎                                                                     | 36723/809343 [00:16<06:03, 2122.60it/s]\u001b[A\n",
      "  5%|███▎                                                                     | 36970/809343 [00:16<05:49, 2211.34it/s]\u001b[A\n",
      "  5%|███▎                                                                     | 37194/809343 [00:16<05:48, 2214.73it/s]\u001b[A\n",
      "  5%|███▍                                                                     | 37445/809343 [00:16<05:35, 2298.31it/s]\u001b[A\n",
      "  5%|███▍                                                                     | 37676/809343 [00:16<05:38, 2276.81it/s]\u001b[A\n",
      "  5%|███▍                                                                     | 37936/809343 [00:16<05:25, 2366.62it/s]\u001b[A\n",
      "  5%|███▍                                                                     | 38221/809343 [00:17<05:08, 2503.59it/s]\u001b[A\n",
      "  5%|███▍                                                                     | 38510/809343 [00:17<04:55, 2610.34it/s]\u001b[A\n",
      "  5%|███▍                                                                     | 38772/809343 [00:17<05:06, 2511.23it/s]\u001b[A\n",
      "  5%|███▌                                                                     | 39025/809343 [00:17<05:08, 2496.73it/s]\u001b[A\n",
      "  5%|███▌                                                                     | 39276/809343 [00:17<05:10, 2481.11it/s]\u001b[A\n",
      "  5%|███▌                                                                     | 39525/809343 [00:17<05:27, 2350.80it/s]\u001b[A\n",
      "  5%|███▌                                                                     | 39762/809343 [00:17<05:32, 2312.41it/s]\u001b[A\n",
      "  5%|███▌                                                                     | 39995/809343 [00:17<05:43, 2242.13it/s]\u001b[A\n",
      "  5%|███▋                                                                     | 40230/809343 [00:17<05:39, 2266.39it/s]\u001b[A\n",
      "  5%|███▋                                                                     | 40471/809343 [00:18<05:33, 2305.14it/s]\u001b[A\n",
      "  5%|███▋                                                                     | 40734/809343 [00:18<05:20, 2394.81it/s]\u001b[A\n",
      "  5%|███▋                                                                     | 40975/809343 [00:18<05:40, 2258.09it/s]\u001b[A\n",
      "  5%|███▋                                                                     | 41203/809343 [00:18<05:40, 2255.08it/s]\u001b[A\n",
      "  5%|███▋                                                                     | 41471/809343 [00:18<05:28, 2338.66it/s]\u001b[A\n",
      "  5%|███▊                                                                     | 41726/809343 [00:18<05:21, 2385.38it/s]\u001b[A\n",
      "  5%|███▊                                                                     | 41966/809343 [00:18<05:59, 2133.63it/s]\u001b[A\n",
      "  5%|███▊                                                                     | 42228/809343 [00:18<05:38, 2264.82it/s]\u001b[A\n",
      "  5%|███▊                                                                     | 42460/809343 [00:18<05:36, 2278.49it/s]\u001b[A\n",
      "  5%|███▊                                                                     | 42692/809343 [00:19<05:51, 2181.44it/s]\u001b[A\n",
      "  5%|███▊                                                                     | 42957/809343 [00:19<05:31, 2310.33it/s]\u001b[A\n",
      "  5%|███▉                                                                     | 43194/809343 [00:19<05:29, 2327.11it/s]\u001b[A\n",
      "  5%|███▉                                                                     | 43450/809343 [00:19<05:19, 2393.67it/s]\u001b[A\n",
      "  5%|███▉                                                                     | 43692/809343 [00:19<05:50, 2184.22it/s]\u001b[A\n",
      "  5%|███▉                                                                     | 43945/809343 [00:19<05:39, 2256.35it/s]\u001b[A\n",
      "  5%|███▉                                                                     | 44179/809343 [00:19<05:36, 2275.02it/s]\u001b[A\n",
      "  5%|████                                                                     | 44456/809343 [00:19<05:17, 2412.56it/s]\u001b[A\n",
      "  6%|████                                                                     | 44714/809343 [00:19<05:11, 2454.65it/s]\u001b[A\n",
      "  6%|████                                                                     | 44977/809343 [00:19<05:05, 2498.57it/s]\u001b[A\n",
      "  6%|████                                                                     | 45244/809343 [00:20<04:59, 2548.86it/s]\u001b[A\n",
      "  6%|████                                                                     | 45500/809343 [00:20<05:00, 2543.89it/s]\u001b[A\n",
      "  6%|████▏                                                                    | 45788/809343 [00:20<04:48, 2643.43it/s]\u001b[A\n",
      "  6%|████▏                                                                    | 46054/809343 [00:20<05:05, 2497.84it/s]\u001b[A\n",
      "  6%|████▏                                                                    | 46306/809343 [00:20<05:06, 2493.37it/s]\u001b[A\n",
      "  6%|████▏                                                                    | 46557/809343 [00:20<05:19, 2389.02it/s]\u001b[A\n",
      "  6%|████▏                                                                    | 46798/809343 [00:20<05:46, 2197.97it/s]\u001b[A\n",
      "  6%|████▏                                                                    | 47023/809343 [00:20<05:44, 2211.53it/s]\u001b[A\n",
      "  6%|████▎                                                                    | 47308/809343 [00:20<05:19, 2384.70it/s]\u001b[A\n"
     ]
    },
    {
     "name": "stderr",
     "output_type": "stream",
     "text": [
      "  6%|████▎                                                                    | 47562/809343 [00:21<05:13, 2428.67it/s]\u001b[A\n",
      "  6%|████▎                                                                    | 47821/809343 [00:21<05:08, 2470.10it/s]\u001b[A\n",
      "  6%|████▎                                                                    | 48084/809343 [00:21<05:03, 2511.63it/s]\u001b[A\n",
      "  6%|████▎                                                                    | 48368/809343 [00:21<04:52, 2602.26it/s]\u001b[A\n",
      "  6%|████▍                                                                    | 48652/809343 [00:21<04:45, 2666.68it/s]\u001b[A\n",
      "  6%|████▍                                                                    | 48925/809343 [00:21<04:43, 2679.63it/s]\u001b[A\n",
      "  6%|████▍                                                                    | 49194/809343 [00:21<04:44, 2676.19it/s]\u001b[A\n",
      "  6%|████▍                                                                    | 49463/809343 [00:21<04:50, 2617.61it/s]\u001b[A\n",
      "  6%|████▍                                                                    | 49726/809343 [00:21<04:59, 2534.28it/s]\u001b[A\n",
      "  6%|████▌                                                                    | 49981/809343 [00:22<05:13, 2422.55it/s]\u001b[A\n",
      "  6%|████▌                                                                    | 50225/809343 [00:22<05:40, 2228.35it/s]\u001b[A\n",
      "  6%|████▌                                                                    | 50465/809343 [00:22<05:33, 2273.63it/s]\u001b[A\n",
      "  6%|████▌                                                                    | 50724/809343 [00:22<05:21, 2357.03it/s]\u001b[A\n",
      "  6%|████▌                                                                    | 50989/809343 [00:22<05:12, 2428.11it/s]\u001b[A\n",
      "  6%|████▌                                                                    | 51235/809343 [00:22<05:12, 2427.12it/s]\u001b[A\n",
      "  6%|████▋                                                                    | 51489/809343 [00:22<05:08, 2453.99it/s]\u001b[A\n",
      "  6%|████▋                                                                    | 51748/809343 [00:22<05:04, 2488.58it/s]\u001b[A\n",
      "  6%|████▋                                                                    | 51998/809343 [00:22<05:12, 2422.47it/s]\u001b[A\n",
      "  6%|████▋                                                                    | 52287/809343 [00:22<04:59, 2530.49it/s]\u001b[A\n",
      "  6%|████▋                                                                    | 52542/809343 [00:23<05:01, 2512.70it/s]\u001b[A\n",
      "  7%|████▊                                                                    | 52794/809343 [00:23<05:11, 2432.10it/s]\u001b[A\n",
      "  7%|████▊                                                                    | 53038/809343 [00:23<05:14, 2401.58it/s]\u001b[A\n",
      "  7%|████▊                                                                    | 53304/809343 [00:23<05:05, 2471.08it/s]\u001b[A\n",
      "  7%|████▊                                                                    | 53568/809343 [00:23<05:00, 2514.63it/s]\u001b[A\n",
      "  7%|████▊                                                                    | 53820/809343 [00:23<05:00, 2511.11it/s]\u001b[A\n",
      "  7%|████▉                                                                    | 54081/809343 [00:23<04:57, 2534.81it/s]\u001b[A\n",
      "  7%|████▉                                                                    | 54335/809343 [00:23<05:03, 2486.66it/s]\u001b[A\n",
      "  7%|████▉                                                                    | 54585/809343 [00:23<05:10, 2428.83it/s]\u001b[A\n",
      "  7%|████▉                                                                    | 54878/809343 [00:23<04:53, 2567.20it/s]\u001b[A\n",
      "  7%|████▉                                                                    | 55136/809343 [00:24<04:55, 2554.84it/s]\u001b[A\n",
      "  7%|████▉                                                                    | 55392/809343 [00:24<05:01, 2499.79it/s]\u001b[A\n",
      "  7%|█████                                                                    | 55643/809343 [00:24<05:02, 2490.46it/s]\u001b[A\n",
      "  7%|█████                                                                    | 55893/809343 [00:24<05:16, 2377.30it/s]\u001b[A\n",
      "  7%|█████                                                                    | 56161/809343 [00:24<05:07, 2449.43it/s]\u001b[A\n",
      "  7%|█████                                                                    | 56410/809343 [00:24<05:06, 2460.00it/s]\u001b[A\n",
      "  7%|█████                                                                    | 56657/809343 [00:24<05:16, 2379.41it/s]\u001b[A\n",
      "  7%|█████▏                                                                   | 56922/809343 [00:24<05:06, 2452.13it/s]\u001b[A\n",
      "  7%|█████▏                                                                   | 57169/809343 [00:24<05:07, 2449.07it/s]\u001b[A\n",
      "  7%|█████▏                                                                   | 57415/809343 [00:25<05:07, 2449.03it/s]\u001b[A\n",
      "  7%|█████▏                                                                   | 57661/809343 [00:25<05:12, 2401.61it/s]\u001b[A\n",
      "  7%|█████▏                                                                   | 57902/809343 [00:25<05:30, 2274.78it/s]\u001b[A\n",
      "  7%|█████▏                                                                   | 58166/809343 [00:25<05:21, 2334.80it/s]\u001b[A\n",
      "  7%|█████▎                                                                   | 58427/809343 [00:25<05:11, 2409.10it/s]\u001b[A\n",
      "  7%|█████▎                                                                   | 58670/809343 [00:25<05:37, 2225.16it/s]\u001b[A\n",
      "  7%|█████▎                                                                   | 58952/809343 [00:25<05:14, 2383.78it/s]\u001b[A\n",
      "  7%|█████▎                                                                   | 59194/809343 [00:25<05:14, 2382.61it/s]\u001b[A\n",
      "  7%|█████▎                                                                   | 59435/809343 [00:25<05:25, 2306.63it/s]\u001b[A\n",
      "  7%|█████▍                                                                   | 59688/809343 [00:26<05:17, 2363.88it/s]\u001b[A\n",
      "  7%|█████▍                                                                   | 59964/809343 [00:26<05:02, 2475.51it/s]\u001b[A\n",
      "  7%|█████▍                                                                   | 60214/809343 [00:26<05:09, 2423.12it/s]\u001b[A\n",
      "  7%|█████▍                                                                   | 60482/809343 [00:26<05:00, 2493.87it/s]\u001b[A\n",
      "  8%|█████▍                                                                   | 60733/809343 [00:26<05:01, 2486.29it/s]\u001b[A\n",
      "  8%|█████▌                                                                   | 60983/809343 [00:26<05:14, 2379.38it/s]\u001b[A\n",
      "  8%|█████▌                                                                   | 61230/809343 [00:26<05:11, 2400.31it/s]\u001b[A\n",
      "  8%|█████▌                                                                   | 61495/809343 [00:26<05:11, 2398.66it/s]\u001b[A\n",
      "  8%|█████▌                                                                   | 61736/809343 [00:26<05:15, 2371.22it/s]\u001b[A\n",
      "  8%|█████▌                                                                   | 61974/809343 [00:26<05:16, 2362.21it/s]\u001b[A\n",
      "  8%|█████▌                                                                   | 62222/809343 [00:27<05:12, 2391.33it/s]\u001b[A\n",
      "  8%|█████▋                                                                   | 62462/809343 [00:27<05:24, 2304.11it/s]\u001b[A\n",
      "  8%|█████▋                                                                   | 62694/809343 [00:27<05:25, 2294.50it/s]\u001b[A\n",
      "  8%|█████▋                                                                   | 62924/809343 [00:27<05:38, 2203.12it/s]\u001b[A\n",
      "  8%|█████▋                                                                   | 63146/809343 [00:27<05:43, 2171.73it/s]\u001b[A\n",
      "  8%|█████▋                                                                   | 63423/809343 [00:27<05:26, 2286.78it/s]\u001b[A\n",
      "  8%|█████▋                                                                   | 63693/809343 [00:27<05:10, 2404.23it/s]\u001b[A\n",
      "  8%|█████▊                                                                   | 63984/809343 [00:27<04:52, 2545.05it/s]\u001b[A\n",
      "  8%|█████▊                                                                   | 64240/809343 [00:27<05:04, 2450.63it/s]\u001b[A\n"
     ]
    },
    {
     "name": "stderr",
     "output_type": "stream",
     "text": [
      "  8%|█████▊                                                                   | 64524/809343 [00:28<04:51, 2556.43it/s]\u001b[A\n",
      "  8%|█████▊                                                                   | 64782/809343 [00:28<04:55, 2521.74it/s]\u001b[A\n",
      "  8%|█████▊                                                                   | 65043/809343 [00:28<04:52, 2541.90it/s]\u001b[A\n",
      "  8%|█████▉                                                                   | 65341/809343 [00:28<04:39, 2663.86it/s]\u001b[A\n",
      "  8%|█████▉                                                                   | 65609/809343 [00:28<04:42, 2632.38it/s]\u001b[A\n",
      "  8%|█████▉                                                                   | 65873/809343 [00:28<04:56, 2505.33it/s]\u001b[A\n",
      "  8%|█████▉                                                                   | 66126/809343 [00:28<04:58, 2493.01it/s]\u001b[A\n",
      "  8%|█████▉                                                                   | 66377/809343 [00:28<04:58, 2488.63it/s]\u001b[A\n",
      "  8%|██████                                                                   | 66654/809343 [00:28<04:49, 2564.64it/s]\u001b[A\n",
      "  8%|██████                                                                   | 66912/809343 [00:28<04:50, 2556.22it/s]\u001b[A\n",
      "  8%|██████                                                                   | 67169/809343 [00:29<05:08, 2407.19it/s]\u001b[A\n",
      "  8%|██████                                                                   | 67428/809343 [00:29<05:10, 2392.67it/s]\u001b[A\n",
      "  8%|██████                                                                   | 67675/809343 [00:29<05:08, 2407.92it/s]\u001b[A\n",
      "  8%|██████▏                                                                  | 67950/809343 [00:29<04:55, 2505.77it/s]\u001b[A\n",
      "  8%|██████▏                                                                  | 68202/809343 [00:29<04:55, 2504.34it/s]\u001b[A\n",
      "  8%|██████▏                                                                  | 68454/809343 [00:29<04:58, 2482.11it/s]\u001b[A\n",
      "  8%|██████▏                                                                  | 68760/809343 [00:29<04:40, 2637.69it/s]\u001b[A\n",
      "  9%|██████▏                                                                  | 69025/809343 [00:29<04:53, 2524.88it/s]\u001b[A\n",
      "  9%|██████▏                                                                  | 69281/809343 [00:29<04:52, 2527.61it/s]\u001b[A\n",
      "  9%|██████▎                                                                  | 69535/809343 [00:30<05:00, 2461.96it/s]\u001b[A\n",
      "  9%|██████▎                                                                  | 69783/809343 [00:30<05:03, 2433.93it/s]\u001b[A\n",
      "  9%|██████▎                                                                  | 70027/809343 [00:30<05:07, 2403.00it/s]\u001b[A\n",
      "  9%|██████▎                                                                  | 70289/809343 [00:30<05:00, 2460.50it/s]\u001b[A\n",
      "  9%|██████▎                                                                  | 70536/809343 [00:30<05:08, 2398.24it/s]\u001b[A\n",
      "  9%|██████▍                                                                  | 70810/809343 [00:30<04:56, 2490.30it/s]\u001b[A\n",
      "  9%|██████▍                                                                  | 71105/809343 [00:30<04:41, 2618.68it/s]\u001b[A\n",
      "  9%|██████▍                                                                  | 71399/809343 [00:30<04:39, 2637.40it/s]\u001b[A\n",
      "  9%|██████▍                                                                  | 71664/809343 [00:30<04:46, 2570.35it/s]\u001b[A\n",
      "  9%|██████▍                                                                  | 71922/809343 [00:30<04:57, 2482.64it/s]\u001b[A\n",
      "  9%|██████▌                                                                  | 72171/809343 [00:31<05:06, 2404.95it/s]\u001b[A\n",
      "  9%|██████▌                                                                  | 72474/809343 [00:31<04:45, 2580.71it/s]\u001b[A\n",
      "  9%|██████▌                                                                  | 72734/809343 [00:31<05:16, 2328.26it/s]\u001b[A\n",
      "  9%|██████▌                                                                  | 72982/809343 [00:31<05:11, 2364.50it/s]\u001b[A\n",
      "  9%|██████▌                                                                  | 73223/809343 [00:31<05:16, 2327.78it/s]\u001b[A\n",
      "  9%|██████▋                                                                  | 73503/809343 [00:31<05:04, 2414.55it/s]\u001b[A\n",
      "  9%|██████▋                                                                  | 73747/809343 [00:31<05:25, 2261.17it/s]\u001b[A\n",
      "  9%|██████▋                                                                  | 73980/809343 [00:31<05:23, 2274.84it/s]\u001b[A\n",
      "  9%|██████▋                                                                  | 74216/809343 [00:31<05:20, 2296.55it/s]\u001b[A\n",
      "  9%|██████▋                                                                  | 74448/809343 [00:32<05:21, 2288.00it/s]\u001b[A\n",
      "  9%|██████▋                                                                  | 74702/809343 [00:32<05:11, 2357.61it/s]\u001b[A\n",
      "  9%|██████▊                                                                  | 74939/809343 [00:32<05:12, 2347.37it/s]\u001b[A\n",
      "  9%|██████▊                                                                  | 75224/809343 [00:32<04:55, 2487.66it/s]\u001b[A\n",
      "  9%|██████▊                                                                  | 75474/809343 [00:32<05:01, 2432.89it/s]\u001b[A\n",
      "  9%|██████▊                                                                  | 75727/809343 [00:32<04:58, 2459.91it/s]\u001b[A\n",
      "  9%|██████▊                                                                  | 76003/809343 [00:32<04:53, 2502.52it/s]\u001b[A\n",
      "  9%|██████▉                                                                  | 76254/809343 [00:32<04:53, 2496.33it/s]\u001b[A\n",
      "  9%|██████▉                                                                  | 76551/809343 [00:32<04:38, 2629.67it/s]\u001b[A\n",
      "  9%|██████▉                                                                  | 76815/809343 [00:33<04:53, 2495.23it/s]\u001b[A\n",
      " 10%|██████▉                                                                  | 77067/809343 [00:33<06:24, 1906.89it/s]\u001b[A\n",
      " 10%|██████▉                                                                  | 77279/809343 [00:33<07:20, 1661.28it/s]\u001b[A\n",
      " 10%|██████▉                                                                  | 77512/809343 [00:33<06:50, 1784.84it/s]\u001b[A\n",
      " 10%|███████                                                                  | 77707/809343 [00:33<09:28, 1287.62it/s]\u001b[A\n",
      " 10%|███████                                                                  | 77865/809343 [00:33<10:31, 1158.67it/s]\u001b[A\n",
      " 10%|███████                                                                  | 78002/809343 [00:34<11:01, 1106.31it/s]\u001b[A\n",
      " 10%|███████                                                                  | 78127/809343 [00:34<11:34, 1052.97it/s]\u001b[A\n",
      " 10%|███████                                                                  | 78260/809343 [00:34<10:58, 1109.91it/s]\u001b[A\n",
      " 10%|███████                                                                  | 78394/809343 [00:34<10:28, 1162.44it/s]\u001b[A\n",
      " 10%|███████                                                                  | 78518/809343 [00:34<10:30, 1158.63it/s]\u001b[A\n",
      " 10%|███████                                                                  | 78657/809343 [00:34<10:00, 1216.13it/s]\u001b[A\n",
      " 10%|███████                                                                  | 78843/809343 [00:34<08:56, 1362.61it/s]\u001b[A\n",
      " 10%|███████▏                                                                 | 79014/809343 [00:34<08:22, 1454.61it/s]\u001b[A\n",
      " 10%|███████▏                                                                 | 79236/809343 [00:34<07:18, 1666.11it/s]\u001b[A\n",
      " 10%|███████▏                                                                 | 79437/809343 [00:35<06:53, 1763.70it/s]\u001b[A\n",
      " 10%|███████▏                                                                 | 79661/809343 [00:35<06:25, 1891.12it/s]\u001b[A\n",
      " 10%|███████▏                                                                 | 79940/809343 [00:35<05:51, 2077.83it/s]\u001b[A\n",
      " 10%|███████▏                                                                 | 80168/809343 [00:35<05:42, 2131.42it/s]\u001b[A\n"
     ]
    },
    {
     "name": "stderr",
     "output_type": "stream",
     "text": [
      " 10%|███████▎                                                                 | 80440/809343 [00:35<05:16, 2299.44it/s]\u001b[A\n",
      " 10%|███████▎                                                                 | 80702/809343 [00:35<05:04, 2393.08it/s]\u001b[A\n",
      " 10%|███████▎                                                                 | 80944/809343 [00:35<05:04, 2395.85it/s]\u001b[A\n",
      " 10%|███████▎                                                                 | 81185/809343 [00:35<06:21, 1910.83it/s]\u001b[A\n",
      " 10%|███████▎                                                                 | 81490/809343 [00:35<05:31, 2193.69it/s]\u001b[A\n",
      " 10%|███████▎                                                                 | 81726/809343 [00:36<06:10, 1964.62it/s]\u001b[A\n",
      " 10%|███████▍                                                                 | 81938/809343 [00:36<06:08, 1975.19it/s]\u001b[A\n",
      " 10%|███████▍                                                                 | 82199/809343 [00:36<05:40, 2135.94it/s]\u001b[A\n",
      " 10%|███████▍                                                                 | 82482/809343 [00:36<05:13, 2318.85it/s]\u001b[A\n",
      " 10%|███████▍                                                                 | 82723/809343 [00:36<05:15, 2301.24it/s]\u001b[A\n",
      " 10%|███████▍                                                                 | 82960/809343 [00:36<05:15, 2302.92it/s]\u001b[A\n",
      " 10%|███████▌                                                                 | 83216/809343 [00:36<05:06, 2370.90it/s]\u001b[A\n",
      " 10%|███████▌                                                                 | 83504/809343 [00:36<04:48, 2512.79it/s]\u001b[A\n",
      " 10%|███████▌                                                                 | 83759/809343 [00:36<05:11, 2329.08it/s]\u001b[A\n",
      " 10%|███████▌                                                                 | 84032/809343 [00:37<04:57, 2436.19it/s]\u001b[A\n",
      " 10%|███████▌                                                                 | 84280/809343 [00:37<05:55, 2040.54it/s]\u001b[A\n",
      " 10%|███████▌                                                                 | 84497/809343 [00:37<05:49, 2071.08it/s]\u001b[A\n",
      " 10%|███████▋                                                                 | 84756/809343 [00:37<05:28, 2204.44it/s]\u001b[A\n",
      " 11%|███████▋                                                                 | 84996/809343 [00:37<05:21, 2253.53it/s]\u001b[A\n",
      " 11%|███████▋                                                                 | 85228/809343 [00:37<05:33, 2170.44it/s]\u001b[A\n",
      " 11%|███████▋                                                                 | 85450/809343 [00:37<05:45, 2093.15it/s]\u001b[A\n",
      " 11%|███████▋                                                                 | 85663/809343 [00:37<05:48, 2076.15it/s]\u001b[A\n",
      " 11%|███████▋                                                                 | 85873/809343 [00:37<06:00, 2006.18it/s]\u001b[A\n",
      " 11%|███████▊                                                                 | 86076/809343 [00:38<06:04, 1985.64it/s]\u001b[A\n",
      " 11%|███████▊                                                                 | 86276/809343 [00:38<06:03, 1986.75it/s]\u001b[A\n",
      " 11%|███████▊                                                                 | 86498/809343 [00:38<05:52, 2049.23it/s]\u001b[A\n",
      " 11%|███████▊                                                                 | 86729/809343 [00:38<05:40, 2123.15it/s]\u001b[A\n",
      " 11%|███████▊                                                                 | 86943/809343 [00:38<06:11, 1942.64it/s]\u001b[A\n",
      " 11%|███████▊                                                                 | 87141/809343 [00:38<06:14, 1930.25it/s]\u001b[A\n",
      " 11%|███████▉                                                                 | 87354/809343 [00:38<06:04, 1982.21it/s]\u001b[A\n",
      " 11%|███████▉                                                                 | 87555/809343 [00:38<06:20, 1894.59it/s]\u001b[A\n",
      " 11%|███████▉                                                                 | 87803/809343 [00:38<05:51, 2054.22it/s]\u001b[A\n",
      " 11%|███████▉                                                                 | 88064/809343 [00:39<05:26, 2207.91it/s]\u001b[A\n",
      " 11%|███████▉                                                                 | 88301/809343 [00:39<05:20, 2250.21it/s]\u001b[A\n",
      " 11%|███████▉                                                                 | 88566/809343 [00:39<05:06, 2354.79it/s]\u001b[A\n",
      " 11%|████████                                                                 | 88803/809343 [00:39<05:22, 2236.94it/s]\u001b[A\n",
      " 11%|████████                                                                 | 89029/809343 [00:39<05:53, 2037.15it/s]\u001b[A\n",
      " 11%|████████                                                                 | 89265/809343 [00:39<05:39, 2119.76it/s]\u001b[A\n",
      " 11%|████████                                                                 | 89481/809343 [00:39<05:45, 2083.88it/s]\u001b[A\n",
      " 11%|████████                                                                 | 89693/809343 [00:39<05:46, 2078.15it/s]\u001b[A\n",
      " 11%|████████                                                                 | 89903/809343 [00:39<06:38, 1805.11it/s]\u001b[A\n",
      " 11%|████████▏                                                                | 90116/809343 [00:40<06:21, 1884.65it/s]\u001b[A\n",
      " 11%|████████▏                                                                | 90365/809343 [00:40<05:52, 2041.54it/s]\u001b[A\n",
      " 11%|████████▏                                                                | 90575/809343 [00:40<06:09, 1946.00it/s]\u001b[A\n",
      " 11%|████████▏                                                                | 90789/809343 [00:40<06:00, 1994.78it/s]\u001b[A\n",
      " 11%|████████▏                                                                | 91027/809343 [00:40<05:42, 2098.58it/s]\u001b[A\n",
      " 11%|████████▏                                                                | 91241/809343 [00:40<05:42, 2094.11it/s]\u001b[A\n",
      " 11%|████████▏                                                                | 91453/809343 [00:40<06:25, 1862.27it/s]\u001b[A\n",
      " 11%|████████▎                                                                | 91661/809343 [00:40<06:14, 1916.30it/s]\u001b[A\n",
      " 11%|████████▎                                                                | 91910/809343 [00:40<05:46, 2071.64it/s]\u001b[A\n",
      " 11%|████████▎                                                                | 92122/809343 [00:41<05:52, 2033.09it/s]\u001b[A\n",
      " 11%|████████▎                                                                | 92386/809343 [00:41<05:25, 2201.32it/s]\u001b[A\n",
      " 11%|████████▎                                                                | 92652/809343 [00:41<05:07, 2328.12it/s]\u001b[A\n",
      " 11%|████████▍                                                                | 92913/809343 [00:41<04:58, 2398.17it/s]\u001b[A\n",
      " 12%|████████▍                                                                | 93182/809343 [00:41<04:48, 2483.42it/s]\u001b[A\n",
      " 12%|████████▍                                                                | 93458/809343 [00:41<04:40, 2555.98it/s]\u001b[A\n",
      " 12%|████████▍                                                                | 93715/809343 [00:41<04:48, 2477.78it/s]\u001b[A\n",
      " 12%|████████▍                                                                | 93965/809343 [00:41<05:01, 2369.51it/s]\u001b[A\n",
      " 12%|████████▍                                                                | 94204/809343 [00:41<05:16, 2262.01it/s]\u001b[A\n",
      " 12%|████████▌                                                                | 94432/809343 [00:42<05:55, 2011.30it/s]\u001b[A\n",
      " 12%|████████▌                                                                | 94639/809343 [00:42<06:29, 1836.83it/s]\u001b[A\n",
      " 12%|████████▌                                                                | 94843/809343 [00:42<06:20, 1875.71it/s]\u001b[A\n",
      " 12%|████████▌                                                                | 95069/809343 [00:42<06:01, 1977.00it/s]\u001b[A\n",
      " 12%|████████▌                                                                | 95292/809343 [00:42<05:49, 2041.98it/s]\u001b[A\n",
      " 12%|████████▌                                                                | 95540/809343 [00:42<05:30, 2163.03it/s]\u001b[A\n",
      " 12%|████████▋                                                                | 95798/809343 [00:42<05:13, 2277.47it/s]\u001b[A\n"
     ]
    },
    {
     "name": "stderr",
     "output_type": "stream",
     "text": [
      " 12%|████████▋                                                                | 96048/809343 [00:42<05:04, 2339.64it/s]\u001b[A\n",
      " 12%|████████▋                                                                | 96299/809343 [00:42<05:03, 2350.80it/s]\u001b[A\n",
      " 12%|████████▋                                                                | 96604/809343 [00:43<04:47, 2483.26it/s]\u001b[A\n",
      " 12%|████████▋                                                                | 96853/809343 [00:43<04:47, 2478.66it/s]\u001b[A\n",
      " 12%|████████▊                                                                | 97129/809343 [00:43<04:45, 2493.67it/s]\u001b[A\n",
      " 12%|████████▊                                                                | 97409/809343 [00:43<04:38, 2555.99it/s]\u001b[A\n",
      " 12%|████████▊                                                                | 97665/809343 [00:43<04:43, 2510.15it/s]\u001b[A\n",
      " 12%|████████▊                                                                | 97944/809343 [00:43<04:34, 2590.74it/s]\u001b[A\n",
      " 12%|████████▊                                                                | 98207/809343 [00:43<04:40, 2531.32it/s]\u001b[A\n",
      " 12%|████████▉                                                                | 98492/809343 [00:43<04:31, 2619.99it/s]\u001b[A\n",
      " 12%|████████▉                                                                | 98762/809343 [00:43<04:31, 2614.62it/s]\u001b[A\n",
      " 12%|████████▉                                                                | 99024/809343 [00:43<04:35, 2581.12it/s]\u001b[A\n",
      " 12%|████████▉                                                                | 99304/809343 [00:44<04:28, 2642.00it/s]\u001b[A\n",
      " 12%|████████▉                                                                | 99569/809343 [00:44<04:31, 2610.95it/s]\u001b[A\n",
      " 12%|█████████                                                                | 99868/809343 [00:44<04:21, 2707.96it/s]\u001b[A\n",
      " 12%|████████▉                                                               | 100140/809343 [00:44<04:31, 2610.28it/s]\u001b[A\n",
      " 12%|████████▉                                                               | 100432/809343 [00:44<04:23, 2687.13it/s]\u001b[A\n",
      " 12%|████████▉                                                               | 100702/809343 [00:44<04:33, 2588.62it/s]\u001b[A\n",
      " 12%|████████▉                                                               | 100962/809343 [00:44<04:36, 2561.14it/s]\u001b[A\n",
      " 13%|█████████                                                               | 101219/809343 [00:44<04:37, 2554.79it/s]\u001b[A\n",
      " 13%|█████████                                                               | 101507/809343 [00:44<04:27, 2641.85it/s]\u001b[A\n",
      " 13%|█████████                                                               | 101772/809343 [00:44<04:27, 2641.86it/s]\u001b[A\n",
      " 13%|█████████                                                               | 102086/809343 [00:45<04:20, 2709.96it/s]\u001b[A\n",
      " 13%|█████████                                                               | 102428/809343 [00:45<04:09, 2834.41it/s]\u001b[A\n",
      " 13%|█████████▏                                                              | 102712/809343 [00:45<04:09, 2834.28it/s]\u001b[A\n",
      " 13%|█████████▏                                                              | 102996/809343 [00:45<04:33, 2581.28it/s]\u001b[A\n",
      " 13%|█████████▏                                                              | 103270/809343 [00:45<04:33, 2582.01it/s]\u001b[A\n",
      " 13%|█████████▏                                                              | 103531/809343 [00:45<04:34, 2570.06it/s]\u001b[A\n",
      " 13%|█████████▏                                                              | 103806/809343 [00:45<04:29, 2617.01it/s]\u001b[A\n",
      " 13%|█████████▎                                                              | 104105/809343 [00:45<04:23, 2672.12it/s]\u001b[A\n",
      " 13%|█████████▎                                                              | 104398/809343 [00:45<04:23, 2673.23it/s]\u001b[A\n",
      " 13%|█████████▎                                                              | 104667/809343 [00:46<04:23, 2675.95it/s]\u001b[A\n",
      " 13%|█████████▎                                                              | 104964/809343 [00:46<04:15, 2751.94it/s]\u001b[A\n",
      " 13%|█████████▎                                                              | 105265/809343 [00:46<04:15, 2754.61it/s]\u001b[A\n",
      " 13%|█████████▍                                                              | 105541/809343 [00:46<04:22, 2678.76it/s]\u001b[A\n",
      " 13%|█████████▍                                                              | 105810/809343 [00:46<04:29, 2608.76it/s]\u001b[A\n",
      " 13%|█████████▍                                                              | 106072/809343 [00:46<04:29, 2605.26it/s]\u001b[A\n",
      " 13%|█████████▍                                                              | 106360/809343 [00:46<04:28, 2614.12it/s]\u001b[A\n",
      " 13%|█████████▍                                                              | 106622/809343 [00:46<04:44, 2467.70it/s]\u001b[A\n",
      " 13%|█████████▌                                                              | 106872/809343 [00:46<04:43, 2476.13it/s]\u001b[A\n",
      " 13%|█████████▌                                                              | 107121/809343 [00:47<04:47, 2445.87it/s]\u001b[A\n",
      " 13%|█████████▌                                                              | 107387/809343 [00:47<04:40, 2502.83it/s]\u001b[A\n",
      " 13%|█████████▌                                                              | 107638/809343 [00:47<04:59, 2346.11it/s]\u001b[A\n",
      " 13%|█████████▌                                                              | 107971/809343 [00:47<04:35, 2549.82it/s]\u001b[A\n",
      " 13%|█████████▋                                                              | 108254/809343 [00:47<04:34, 2556.61it/s]\u001b[A\n",
      " 13%|█████████▋                                                              | 108541/809343 [00:47<04:25, 2637.43it/s]\u001b[A\n",
      " 13%|█████████▋                                                              | 108807/809343 [00:47<04:33, 2557.43it/s]\u001b[A\n",
      " 13%|█████████▋                                                              | 109064/809343 [00:47<05:08, 2267.30it/s]\u001b[A\n",
      " 14%|█████████▋                                                              | 109319/809343 [00:47<04:59, 2334.64it/s]\u001b[A\n",
      " 14%|█████████▋                                                              | 109562/809343 [00:48<04:56, 2357.14it/s]\u001b[A\n",
      " 14%|█████████▊                                                              | 109844/809343 [00:48<04:41, 2485.39it/s]\u001b[A\n",
      " 14%|█████████▊                                                              | 110140/809343 [00:48<04:33, 2553.42it/s]\u001b[A\n",
      " 14%|█████████▊                                                              | 110405/809343 [00:48<04:31, 2574.35it/s]\u001b[A\n",
      " 14%|█████████▊                                                              | 110669/809343 [00:48<04:29, 2590.43it/s]\u001b[A\n",
      " 14%|█████████▊                                                              | 110947/809343 [00:48<04:33, 2549.12it/s]\u001b[A\n",
      " 14%|█████████▉                                                              | 111254/809343 [00:48<04:26, 2624.36it/s]\u001b[A\n",
      " 14%|█████████▉                                                              | 111539/809343 [00:48<04:26, 2621.98it/s]\u001b[A\n",
      " 14%|█████████▉                                                              | 111802/809343 [00:48<04:27, 2611.53it/s]\u001b[A\n",
      " 14%|█████████▉                                                              | 112064/809343 [00:48<04:34, 2542.29it/s]\u001b[A\n",
      " 14%|█████████▉                                                              | 112380/809343 [00:49<04:23, 2644.36it/s]\u001b[A\n",
      " 14%|██████████                                                              | 112693/809343 [00:49<04:17, 2706.76it/s]\u001b[A\n",
      " 14%|██████████                                                              | 113005/809343 [00:49<04:13, 2747.35it/s]\u001b[A\n",
      " 14%|██████████                                                              | 113280/809343 [00:49<04:21, 2658.94it/s]\u001b[A\n",
      " 14%|██████████                                                              | 113547/809343 [00:49<04:38, 2494.85it/s]\u001b[A\n",
      " 14%|██████████▏                                                             | 113823/809343 [00:49<04:30, 2567.27it/s]\u001b[A\n",
      " 14%|██████████▏                                                             | 114082/809343 [00:49<04:32, 2555.21it/s]\u001b[A\n"
     ]
    },
    {
     "name": "stderr",
     "output_type": "stream",
     "text": [
      " 14%|██████████▏                                                             | 114371/809343 [00:49<04:22, 2646.81it/s]\u001b[A\n",
      " 14%|██████████▏                                                             | 114650/809343 [00:49<04:25, 2614.16it/s]\u001b[A\n",
      " 14%|██████████▏                                                             | 114925/809343 [00:50<04:29, 2580.56it/s]\u001b[A\n",
      " 14%|██████████▏                                                             | 115184/809343 [00:50<04:31, 2560.78it/s]\u001b[A\n",
      " 14%|██████████▎                                                             | 115443/809343 [00:50<04:30, 2562.50it/s]\u001b[A\n",
      " 14%|██████████▎                                                             | 115700/809343 [00:50<04:38, 2490.01it/s]\u001b[A\n",
      " 14%|██████████▎                                                             | 115984/809343 [00:50<04:35, 2519.31it/s]\u001b[A\n",
      " 14%|██████████▎                                                             | 116295/809343 [00:50<04:25, 2614.91it/s]\u001b[A\n",
      " 14%|██████████▎                                                             | 116557/809343 [00:50<04:32, 2545.02it/s]\u001b[A\n",
      " 14%|██████████▍                                                             | 116843/809343 [00:50<04:30, 2563.01it/s]\u001b[A\n",
      " 14%|██████████▍                                                             | 117100/809343 [00:50<04:49, 2390.44it/s]\u001b[A\n",
      " 14%|██████████▍                                                             | 117341/809343 [00:51<05:38, 2046.87it/s]\u001b[A\n",
      " 15%|██████████▍                                                             | 117567/809343 [00:51<05:29, 2098.13it/s]\u001b[A\n",
      " 15%|██████████▍                                                             | 117784/809343 [00:51<05:36, 2054.30it/s]\u001b[A\n",
      " 15%|██████████▍                                                             | 117994/809343 [00:51<05:49, 1976.03it/s]\u001b[A\n",
      " 15%|██████████▌                                                             | 118210/809343 [00:51<05:41, 2023.40it/s]\u001b[A\n",
      " 15%|██████████▌                                                             | 118478/809343 [00:51<05:14, 2196.38it/s]\u001b[A\n",
      " 15%|██████████▌                                                             | 118701/809343 [00:51<05:16, 2180.26it/s]\u001b[A\n",
      " 15%|██████████▌                                                             | 118959/809343 [00:51<05:01, 2288.32it/s]\u001b[A\n",
      " 15%|██████████▌                                                             | 119190/809343 [00:51<05:06, 2254.78it/s]\u001b[A\n",
      " 15%|██████████▌                                                             | 119417/809343 [00:52<05:27, 2105.08it/s]\u001b[A\n",
      " 15%|██████████▋                                                             | 119631/809343 [00:52<05:32, 2076.55it/s]\u001b[A\n",
      " 15%|██████████▋                                                             | 119866/809343 [00:52<05:20, 2152.56it/s]\u001b[A\n",
      " 15%|██████████▋                                                             | 120150/809343 [00:52<05:01, 2284.96it/s]\u001b[A\n",
      " 15%|██████████▋                                                             | 120453/809343 [00:52<04:43, 2429.02it/s]\u001b[A\n",
      " 15%|██████████▋                                                             | 120739/809343 [00:52<04:37, 2482.16it/s]\u001b[A\n",
      " 15%|██████████▊                                                             | 121019/809343 [00:52<04:27, 2569.76it/s]\u001b[A\n",
      " 15%|██████████▊                                                             | 121298/809343 [00:52<04:22, 2625.75it/s]\u001b[A\n",
      " 15%|██████████▊                                                             | 121562/809343 [00:52<04:23, 2606.33it/s]\u001b[A\n",
      " 15%|██████████▊                                                             | 121824/809343 [00:53<04:36, 2489.91it/s]\u001b[A\n",
      " 15%|██████████▊                                                             | 122075/809343 [00:53<04:42, 2433.22it/s]\u001b[A\n",
      " 15%|██████████▉                                                             | 122339/809343 [00:53<04:36, 2485.79it/s]\u001b[A\n",
      " 15%|██████████▉                                                             | 122595/809343 [00:53<04:34, 2504.75it/s]\u001b[A\n",
      " 15%|██████████▉                                                             | 122847/809343 [00:53<04:41, 2435.44it/s]\u001b[A\n",
      " 15%|██████████▉                                                             | 123109/809343 [00:53<04:36, 2480.25it/s]\u001b[A\n",
      " 15%|██████████▉                                                             | 123422/809343 [00:53<04:27, 2565.46it/s]\u001b[A\n",
      " 15%|███████████                                                             | 123729/809343 [00:53<04:20, 2635.49it/s]\u001b[A\n",
      " 15%|███████████                                                             | 124007/809343 [00:53<04:20, 2630.37it/s]\u001b[A\n",
      " 15%|███████████                                                             | 124270/809343 [00:54<04:33, 2505.07it/s]\u001b[A\n",
      " 15%|███████████                                                             | 124551/809343 [00:54<04:24, 2587.05it/s]\u001b[A\n",
      " 15%|███████████                                                             | 124826/809343 [00:54<04:28, 2549.78it/s]\u001b[A\n",
      " 15%|███████████▏                                                            | 125113/809343 [00:54<04:19, 2633.73it/s]\u001b[A\n",
      " 15%|███████████▏                                                            | 125378/809343 [00:54<04:36, 2477.15it/s]\u001b[A\n",
      " 16%|███████████▏                                                            | 125628/809343 [00:54<04:43, 2412.68it/s]\u001b[A\n",
      " 16%|███████████▏                                                            | 125871/809343 [00:54<04:44, 2401.98it/s]\u001b[A\n",
      " 16%|███████████▏                                                            | 126143/809343 [00:54<04:34, 2491.53it/s]\u001b[A\n",
      " 16%|███████████▏                                                            | 126394/809343 [00:54<04:33, 2494.81it/s]\u001b[A\n",
      " 16%|███████████▎                                                            | 126676/809343 [00:54<04:23, 2586.63it/s]\u001b[A\n",
      " 16%|███████████▎                                                            | 126936/809343 [00:55<04:47, 2376.61it/s]\u001b[A\n",
      " 16%|███████████▎                                                            | 127191/809343 [00:55<04:41, 2420.87it/s]\u001b[A\n",
      " 16%|███████████▎                                                            | 127490/809343 [00:55<04:24, 2577.61it/s]\u001b[A\n",
      " 16%|███████████▎                                                            | 127751/809343 [00:55<04:26, 2554.32it/s]\u001b[A\n",
      " 16%|███████████▍                                                            | 128009/809343 [00:55<04:54, 2314.57it/s]\u001b[A\n",
      " 16%|███████████▍                                                            | 128272/809343 [00:55<04:43, 2398.29it/s]\u001b[A\n",
      " 16%|███████████▍                                                            | 128554/809343 [00:55<04:31, 2509.97it/s]\u001b[A\n",
      " 16%|███████████▍                                                            | 128809/809343 [00:55<04:31, 2503.87it/s]\u001b[A\n",
      " 16%|███████████▍                                                            | 129063/809343 [00:55<04:48, 2355.05it/s]\u001b[A\n",
      " 16%|███████████▌                                                            | 129302/809343 [00:56<04:53, 2313.62it/s]\u001b[A\n",
      " 16%|███████████▌                                                            | 129536/809343 [00:56<06:26, 1760.37it/s]\u001b[A\n",
      " 16%|███████████▌                                                            | 129764/809343 [00:56<06:02, 1872.71it/s]\u001b[A\n",
      " 16%|███████████▌                                                            | 129980/809343 [00:56<05:50, 1938.41it/s]\u001b[A\n",
      " 16%|███████████▌                                                            | 130214/809343 [00:56<05:32, 2041.90it/s]\u001b[A\n",
      " 16%|███████████▌                                                            | 130451/809343 [00:56<05:19, 2123.75it/s]\u001b[A\n",
      " 16%|███████████▋                                                            | 130708/809343 [00:56<05:02, 2242.26it/s]\u001b[A\n",
      " 16%|███████████▋                                                            | 130939/809343 [00:56<05:18, 2130.21it/s]\u001b[A\n",
      " 16%|███████████▋                                                            | 131198/809343 [00:57<05:00, 2254.83it/s]\u001b[A\n"
     ]
    },
    {
     "name": "stderr",
     "output_type": "stream",
     "text": [
      " 16%|███████████▋                                                            | 131432/809343 [00:57<04:57, 2275.14it/s]\u001b[A\n",
      " 16%|███████████▋                                                            | 131664/809343 [00:57<04:58, 2270.24it/s]\u001b[A\n",
      " 16%|███████████▋                                                            | 131898/809343 [00:57<04:56, 2285.61it/s]\u001b[A\n",
      " 16%|███████████▊                                                            | 132141/809343 [00:57<04:51, 2322.85it/s]\u001b[A\n",
      " 16%|███████████▊                                                            | 132375/809343 [00:57<04:58, 2269.59it/s]\u001b[A\n",
      " 16%|███████████▊                                                            | 132604/809343 [00:57<05:13, 2158.51it/s]\u001b[A\n",
      " 16%|███████████▊                                                            | 132822/809343 [00:57<05:22, 2095.30it/s]\u001b[A\n",
      " 16%|███████████▊                                                            | 133040/809343 [00:57<05:19, 2114.77it/s]\u001b[A\n",
      " 16%|███████████▊                                                            | 133253/809343 [00:57<05:26, 2067.63it/s]\u001b[A\n",
      " 16%|███████████▊                                                            | 133461/809343 [00:58<05:29, 2049.39it/s]\u001b[A\n",
      " 17%|███████████▉                                                            | 133672/809343 [00:58<05:27, 2062.32it/s]\u001b[A\n",
      " 17%|███████████▉                                                            | 133922/809343 [00:58<05:09, 2184.98it/s]\u001b[A\n",
      " 17%|███████████▉                                                            | 134142/809343 [00:58<06:08, 1832.25it/s]\u001b[A\n",
      " 17%|███████████▉                                                            | 134336/809343 [00:58<06:44, 1667.33it/s]\u001b[A\n",
      " 17%|███████████▉                                                            | 134549/809343 [00:58<06:19, 1779.42it/s]\u001b[A\n",
      " 17%|███████████▉                                                            | 134785/809343 [00:58<05:49, 1927.81it/s]\u001b[A\n",
      " 17%|████████████                                                            | 134993/809343 [00:58<05:44, 1960.19it/s]\u001b[A\n",
      " 17%|████████████                                                            | 135246/809343 [00:58<05:18, 2114.85it/s]\u001b[A\n",
      " 17%|████████████                                                            | 135463/809343 [00:59<05:22, 2090.60it/s]\u001b[A\n",
      " 17%|████████████                                                            | 135702/809343 [00:59<05:10, 2171.46it/s]\u001b[A\n",
      " 17%|████████████                                                            | 135955/809343 [00:59<04:56, 2272.12it/s]\u001b[A\n",
      " 17%|████████████                                                            | 136218/809343 [00:59<04:43, 2375.29it/s]\u001b[A\n",
      " 17%|████████████▏                                                           | 136479/809343 [00:59<04:35, 2442.97it/s]\u001b[A\n",
      " 17%|████████████▏                                                           | 136751/809343 [00:59<04:26, 2522.08it/s]\u001b[A\n",
      " 17%|████████████▏                                                           | 137005/809343 [00:59<04:30, 2482.75it/s]\u001b[A\n",
      " 17%|████████████▏                                                           | 137293/809343 [00:59<04:18, 2599.15it/s]\u001b[A\n",
      " 17%|████████████▏                                                           | 137554/809343 [00:59<04:19, 2593.00it/s]\u001b[A\n",
      " 17%|████████████▎                                                           | 137814/809343 [01:00<04:39, 2402.48it/s]\u001b[A\n",
      " 17%|████████████▎                                                           | 138058/809343 [01:00<04:40, 2394.67it/s]\u001b[A\n",
      " 17%|████████████▎                                                           | 138300/809343 [01:00<04:44, 2356.75it/s]\u001b[A\n",
      " 17%|████████████▎                                                           | 138538/809343 [01:00<04:54, 2280.67it/s]\u001b[A\n",
      " 17%|████████████▎                                                           | 138822/809343 [01:00<04:35, 2433.67it/s]\u001b[A\n",
      " 17%|████████████▎                                                           | 139071/809343 [01:00<04:34, 2444.71it/s]\u001b[A\n",
      " 17%|████████████▍                                                           | 139320/809343 [01:00<04:33, 2452.66it/s]\u001b[A\n",
      " 17%|████████████▍                                                           | 139567/809343 [01:00<04:34, 2436.45it/s]\u001b[A\n",
      " 17%|████████████▍                                                           | 139832/809343 [01:00<04:28, 2492.09it/s]\u001b[A\n",
      " 17%|████████████▍                                                           | 140117/809343 [01:00<04:18, 2591.17it/s]\u001b[A\n",
      " 17%|████████████▍                                                           | 140417/809343 [01:01<04:07, 2706.21it/s]\u001b[A\n",
      " 17%|████████████▌                                                           | 140689/809343 [01:01<04:07, 2704.70it/s]\u001b[A\n",
      " 17%|████████████▌                                                           | 140960/809343 [01:01<04:07, 2700.17it/s]\u001b[A\n",
      " 17%|████████████▌                                                           | 141231/809343 [01:01<04:07, 2697.19it/s]\u001b[A\n",
      " 17%|████████████▌                                                           | 141501/809343 [01:01<04:12, 2641.48it/s]\u001b[A\n",
      " 18%|████████████▌                                                           | 141766/809343 [01:01<04:16, 2605.50it/s]\u001b[A\n",
      " 18%|████████████▋                                                           | 142027/809343 [01:01<04:30, 2468.32it/s]\u001b[A\n",
      " 18%|████████████▋                                                           | 142276/809343 [01:01<04:41, 2373.33it/s]\u001b[A\n",
      " 18%|████████████▋                                                           | 142515/809343 [01:01<04:56, 2247.90it/s]\u001b[A\n",
      " 18%|████████████▋                                                           | 142767/809343 [01:02<04:48, 2311.55it/s]\u001b[A\n",
      " 18%|████████████▋                                                           | 143000/809343 [01:02<05:00, 2219.08it/s]\u001b[A\n",
      " 18%|████████████▋                                                           | 143224/809343 [01:02<05:05, 2177.65it/s]\u001b[A\n",
      " 18%|████████████▊                                                           | 143461/809343 [01:02<04:59, 2226.87it/s]\u001b[A\n",
      " 18%|████████████▊                                                           | 143723/809343 [01:02<04:45, 2334.24it/s]\u001b[A\n",
      " 18%|████████████▊                                                           | 143965/809343 [01:02<04:43, 2347.12it/s]\u001b[A\n",
      " 18%|████████████▊                                                           | 144201/809343 [01:02<04:49, 2299.43it/s]\u001b[A\n",
      " 18%|████████████▊                                                           | 144432/809343 [01:02<05:00, 2214.57it/s]\u001b[A\n",
      " 18%|████████████▊                                                           | 144670/809343 [01:02<04:54, 2257.13it/s]\u001b[A\n",
      " 18%|████████████▉                                                           | 144921/809343 [01:02<04:46, 2318.52it/s]\u001b[A\n",
      " 18%|████████████▉                                                           | 145180/809343 [01:03<04:37, 2392.38it/s]\u001b[A\n",
      " 18%|████████████▉                                                           | 145420/809343 [01:03<04:38, 2381.03it/s]\u001b[A\n",
      " 18%|████████████▉                                                           | 145659/809343 [01:03<04:48, 2299.04it/s]\u001b[A\n",
      " 18%|████████████▉                                                           | 145890/809343 [01:03<04:52, 2264.88it/s]\u001b[A\n",
      " 18%|█████████████                                                           | 146139/809343 [01:03<04:45, 2326.10it/s]\u001b[A\n",
      " 18%|█████████████                                                           | 146398/809343 [01:03<04:36, 2400.23it/s]\u001b[A\n",
      " 18%|█████████████                                                           | 146639/809343 [01:03<04:38, 2383.80it/s]\u001b[A\n",
      " 18%|█████████████                                                           | 146894/809343 [01:03<04:32, 2427.40it/s]\u001b[A\n",
      " 18%|█████████████                                                           | 147141/809343 [01:03<04:31, 2434.99it/s]\u001b[A\n",
      " 18%|█████████████                                                           | 147403/809343 [01:04<04:26, 2484.41it/s]\u001b[A\n"
     ]
    },
    {
     "name": "stderr",
     "output_type": "stream",
     "text": [
      " 18%|█████████████▏                                                          | 147652/809343 [01:04<04:27, 2475.45it/s]\u001b[A\n",
      " 18%|█████████████▏                                                          | 147910/809343 [01:04<04:23, 2506.38it/s]\u001b[A\n",
      " 18%|█████████████▏                                                          | 148161/809343 [01:04<04:29, 2451.16it/s]\u001b[A\n",
      " 18%|█████████████▏                                                          | 148438/809343 [01:04<04:20, 2539.36it/s]\u001b[A\n",
      " 18%|█████████████▏                                                          | 148693/809343 [01:04<04:24, 2496.45it/s]\u001b[A\n",
      " 18%|█████████████▎                                                          | 149011/809343 [01:04<04:05, 2690.88it/s]\u001b[A\n",
      " 18%|█████████████▎                                                          | 149281/809343 [01:04<04:07, 2672.06it/s]\u001b[A\n",
      " 18%|█████████████▎                                                          | 149549/809343 [01:04<04:11, 2622.80it/s]\u001b[A\n",
      " 19%|█████████████▎                                                          | 149812/809343 [01:04<04:14, 2596.40it/s]\u001b[A\n",
      " 19%|█████████████▎                                                          | 150110/809343 [01:05<04:03, 2702.72it/s]\u001b[A\n",
      " 19%|█████████████▍                                                          | 150381/809343 [01:05<04:07, 2667.84it/s]\u001b[A\n",
      " 19%|█████████████▍                                                          | 150649/809343 [01:05<05:23, 2035.92it/s]\u001b[A\n",
      " 19%|█████████████▍                                                          | 150875/809343 [01:05<06:23, 1714.88it/s]\u001b[A\n",
      " 19%|█████████████▍                                                          | 151119/809343 [01:05<05:51, 1871.99it/s]\u001b[A\n",
      " 19%|█████████████▍                                                          | 151402/809343 [01:05<05:13, 2097.77it/s]\u001b[A\n",
      " 19%|█████████████▍                                                          | 151638/809343 [01:05<05:04, 2160.39it/s]\u001b[A\n",
      " 19%|█████████████▌                                                          | 151891/809343 [01:05<04:52, 2248.61it/s]\u001b[A\n",
      " 19%|█████████████▌                                                          | 152128/809343 [01:06<04:52, 2246.49it/s]\u001b[A\n",
      " 19%|█████████████▌                                                          | 152361/809343 [01:06<04:58, 2204.20it/s]\u001b[A\n",
      " 19%|█████████████▌                                                          | 152588/809343 [01:06<04:57, 2205.80it/s]\u001b[A\n",
      " 19%|█████████████▌                                                          | 152831/809343 [01:06<04:50, 2258.26it/s]\u001b[A\n",
      " 19%|█████████████▌                                                          | 153108/809343 [01:06<04:33, 2398.65it/s]\u001b[A\n",
      " 19%|█████████████▋                                                          | 153364/809343 [01:06<04:28, 2444.71it/s]\u001b[A\n",
      " 19%|█████████████▋                                                          | 153625/809343 [01:06<04:25, 2473.46it/s]\u001b[A\n",
      " 19%|█████████████▋                                                          | 153906/809343 [01:06<04:15, 2566.72it/s]\u001b[A\n",
      " 19%|█████████████▋                                                          | 154164/809343 [01:06<04:16, 2549.86it/s]\u001b[A\n",
      " 19%|█████████████▋                                                          | 154431/809343 [01:06<04:13, 2579.73it/s]\u001b[A\n",
      " 19%|█████████████▊                                                          | 154709/809343 [01:07<04:08, 2633.57it/s]\u001b[A\n",
      " 19%|█████████████▊                                                          | 154974/809343 [01:07<04:08, 2632.66it/s]\u001b[A\n",
      " 19%|█████████████▊                                                          | 155238/809343 [01:07<04:09, 2621.88it/s]\u001b[A\n",
      " 19%|█████████████▊                                                          | 155501/809343 [01:07<04:10, 2606.67it/s]\u001b[A\n",
      " 19%|█████████████▊                                                          | 155787/809343 [01:07<04:04, 2675.69it/s]\u001b[A\n",
      " 19%|█████████████▉                                                          | 156055/809343 [01:07<04:05, 2663.33it/s]\u001b[A\n",
      " 19%|█████████████▉                                                          | 156328/809343 [01:07<04:03, 2679.28it/s]\u001b[A\n",
      " 19%|█████████████▉                                                          | 156597/809343 [01:07<04:05, 2660.64it/s]\u001b[A\n",
      " 19%|█████████████▉                                                          | 156864/809343 [01:07<04:10, 2608.06it/s]\u001b[A\n",
      " 19%|█████████████▉                                                          | 157161/809343 [01:07<04:00, 2710.81it/s]\u001b[A\n",
      " 19%|██████████████                                                          | 157433/809343 [01:08<04:09, 2608.16it/s]\u001b[A\n",
      " 19%|██████████████                                                          | 157695/809343 [01:08<04:12, 2583.85it/s]\u001b[A\n",
      " 20%|██████████████                                                          | 157955/809343 [01:08<04:12, 2583.33it/s]\u001b[A\n",
      " 20%|██████████████                                                          | 158240/809343 [01:08<04:05, 2647.87it/s]\u001b[A\n",
      " 20%|██████████████                                                          | 158520/809343 [01:08<04:02, 2686.75it/s]\u001b[A\n",
      " 20%|██████████████▏                                                         | 158790/809343 [01:08<04:03, 2668.94it/s]\u001b[A\n",
      " 20%|██████████████▏                                                         | 159058/809343 [01:08<04:05, 2651.17it/s]\u001b[A\n",
      " 20%|██████████████▏                                                         | 159324/809343 [01:08<04:13, 2565.32it/s]\u001b[A\n",
      " 20%|██████████████▏                                                         | 159582/809343 [01:08<04:33, 2372.91it/s]\u001b[A\n",
      " 20%|██████████████▏                                                         | 159823/809343 [01:09<04:48, 2254.41it/s]\u001b[A\n",
      " 20%|██████████████▏                                                         | 160063/809343 [01:09<04:43, 2288.28it/s]\u001b[A\n",
      " 20%|██████████████▎                                                         | 160305/809343 [01:09<04:39, 2320.33it/s]\u001b[A\n",
      " 20%|██████████████▎                                                         | 160539/809343 [01:09<04:54, 2202.53it/s]\u001b[A\n",
      " 20%|██████████████▎                                                         | 160762/809343 [01:09<04:58, 2169.65it/s]\u001b[A\n",
      " 20%|██████████████▎                                                         | 160981/809343 [01:09<05:02, 2140.81it/s]\u001b[A\n",
      " 20%|██████████████▎                                                         | 161228/809343 [01:09<04:50, 2229.54it/s]\u001b[A\n",
      " 20%|██████████████▎                                                         | 161504/809343 [01:09<04:32, 2377.00it/s]\u001b[A\n",
      " 20%|██████████████▍                                                         | 161747/809343 [01:09<04:31, 2389.11it/s]\u001b[A\n",
      " 20%|██████████████▍                                                         | 161987/809343 [01:10<04:42, 2292.73it/s]\u001b[A\n",
      " 20%|██████████████▍                                                         | 162218/809343 [01:10<04:46, 2258.93it/s]\u001b[A\n",
      " 20%|██████████████▍                                                         | 162459/809343 [01:10<04:41, 2294.20it/s]\u001b[A\n",
      " 20%|██████████████▍                                                         | 162690/809343 [01:10<04:58, 2165.28it/s]\u001b[A\n",
      " 20%|██████████████▍                                                         | 162909/809343 [01:10<05:05, 2118.26it/s]\u001b[A\n",
      " 20%|██████████████▌                                                         | 163123/809343 [01:10<05:44, 1873.49it/s]\u001b[A\n",
      " 20%|██████████████▌                                                         | 163330/809343 [01:10<05:36, 1921.38it/s]\u001b[A\n",
      " 20%|██████████████▌                                                         | 163547/809343 [01:10<05:25, 1984.89it/s]\u001b[A\n",
      " 20%|██████████████▌                                                         | 163778/809343 [01:10<05:11, 2071.37it/s]\u001b[A\n",
      " 20%|██████████████▌                                                         | 164006/809343 [01:11<05:03, 2126.48it/s]\u001b[A\n",
      " 20%|██████████████▌                                                         | 164234/809343 [01:11<04:57, 2166.01it/s]\u001b[A\n"
     ]
    },
    {
     "name": "stderr",
     "output_type": "stream",
     "text": [
      " 20%|██████████████▋                                                         | 164453/809343 [01:11<05:24, 1984.36it/s]\u001b[A\n",
      " 20%|██████████████▋                                                         | 164656/809343 [01:11<05:25, 1981.85it/s]\u001b[A\n",
      " 20%|██████████████▋                                                         | 164861/809343 [01:11<05:22, 1996.92it/s]\u001b[A\n",
      " 20%|██████████████▋                                                         | 165117/809343 [01:11<04:58, 2156.97it/s]\u001b[A\n",
      " 20%|██████████████▋                                                         | 165389/809343 [01:11<04:38, 2316.31it/s]\u001b[A\n",
      " 20%|██████████████▋                                                         | 165623/809343 [01:11<04:44, 2265.43it/s]\u001b[A\n",
      " 20%|██████████████▊                                                         | 165860/809343 [01:11<04:40, 2292.75it/s]\u001b[A\n",
      " 21%|██████████████▊                                                         | 166102/809343 [01:11<04:36, 2327.92it/s]\u001b[A\n",
      " 21%|██████████████▊                                                         | 166336/809343 [01:12<04:37, 2315.65it/s]\u001b[A\n",
      " 21%|██████████████▊                                                         | 166600/809343 [01:12<04:27, 2406.25it/s]\u001b[A\n",
      " 21%|██████████████▊                                                         | 166914/809343 [01:12<04:05, 2620.52it/s]\u001b[A\n",
      " 21%|██████████████▊                                                         | 167177/809343 [01:12<04:06, 2604.12it/s]\u001b[A\n",
      " 21%|██████████████▉                                                         | 167461/809343 [01:12<04:00, 2667.97it/s]\u001b[A\n",
      " 21%|██████████████▉                                                         | 167729/809343 [01:12<04:34, 2340.71it/s]\u001b[A\n",
      " 21%|██████████████▉                                                         | 167971/809343 [01:12<04:34, 2338.38it/s]\u001b[A\n",
      " 21%|██████████████▉                                                         | 168211/809343 [01:12<04:33, 2344.29it/s]\u001b[A\n",
      " 21%|██████████████▉                                                         | 168523/809343 [01:12<04:11, 2551.21it/s]\u001b[A\n",
      " 21%|███████████████                                                         | 168782/809343 [01:13<04:20, 2458.80it/s]\u001b[A\n",
      " 21%|███████████████                                                         | 169031/809343 [01:13<04:30, 2369.40it/s]\u001b[A\n",
      " 21%|███████████████                                                         | 169271/809343 [01:13<04:34, 2327.65it/s]\u001b[A\n",
      " 21%|███████████████                                                         | 169534/809343 [01:13<04:25, 2407.55it/s]\u001b[A\n",
      " 21%|███████████████                                                         | 169809/809343 [01:13<04:15, 2501.07it/s]\u001b[A\n",
      " 21%|███████████████▏                                                        | 170082/809343 [01:13<04:09, 2561.72it/s]\u001b[A\n",
      " 21%|███████████████▏                                                        | 170340/809343 [01:13<04:25, 2407.59it/s]\u001b[A\n",
      " 21%|███████████████▏                                                        | 170584/809343 [01:13<04:41, 2265.84it/s]\u001b[A\n",
      " 21%|███████████████▏                                                        | 170838/809343 [01:13<04:33, 2336.20it/s]\u001b[A\n",
      " 21%|███████████████▏                                                        | 171114/809343 [01:14<04:20, 2450.74it/s]\u001b[A\n",
      " 21%|███████████████▏                                                        | 171362/809343 [01:14<04:22, 2433.21it/s]\u001b[A\n",
      " 21%|███████████████▎                                                        | 171608/809343 [01:14<05:22, 1976.91it/s]\u001b[A\n",
      " 21%|███████████████▎                                                        | 171875/809343 [01:14<04:56, 2149.02it/s]\u001b[A\n",
      " 21%|███████████████▎                                                        | 172153/809343 [01:14<04:35, 2313.91it/s]\u001b[A\n",
      " 21%|███████████████▎                                                        | 172405/809343 [01:14<04:31, 2346.33it/s]\u001b[A\n",
      " 21%|███████████████▎                                                        | 172649/809343 [01:14<04:34, 2316.23it/s]\u001b[A\n",
      " 21%|███████████████▍                                                        | 172887/809343 [01:14<04:34, 2316.41it/s]\u001b[A\n",
      " 21%|███████████████▍                                                        | 173146/809343 [01:14<04:26, 2389.15it/s]\u001b[A\n",
      " 21%|███████████████▍                                                        | 173395/809343 [01:15<04:28, 2372.31it/s]\u001b[A\n",
      " 21%|███████████████▍                                                        | 173647/809343 [01:15<04:23, 2409.73it/s]\u001b[A\n",
      " 21%|███████████████▍                                                        | 173890/809343 [01:15<04:25, 2389.75it/s]\u001b[A\n",
      " 22%|███████████████▍                                                        | 174131/809343 [01:15<04:38, 2284.59it/s]\u001b[A\n",
      " 22%|███████████████▌                                                        | 174362/809343 [01:15<04:55, 2147.40it/s]\u001b[A\n",
      " 22%|███████████████▌                                                        | 174580/809343 [01:15<05:04, 2083.49it/s]\u001b[A\n",
      " 22%|███████████████▌                                                        | 174820/809343 [01:15<04:52, 2168.91it/s]\u001b[A\n",
      " 22%|███████████████▌                                                        | 175107/809343 [01:15<04:28, 2361.92it/s]\u001b[A\n",
      " 22%|███████████████▌                                                        | 175364/809343 [01:15<04:22, 2416.57it/s]\u001b[A\n",
      " 22%|███████████████▌                                                        | 175610/809343 [01:15<04:21, 2424.04it/s]\u001b[A\n",
      " 22%|███████████████▋                                                        | 175854/809343 [01:16<04:30, 2341.67it/s]\u001b[A\n",
      " 22%|███████████████▋                                                        | 176095/809343 [01:16<04:28, 2356.36it/s]\u001b[A\n",
      " 22%|███████████████▋                                                        | 176398/809343 [01:16<04:08, 2546.58it/s]\u001b[A\n",
      " 22%|███████████████▋                                                        | 176670/809343 [01:16<04:03, 2593.31it/s]\u001b[A\n",
      " 22%|███████████████▋                                                        | 176951/809343 [01:16<03:58, 2650.97it/s]\u001b[A\n",
      " 22%|███████████████▊                                                        | 177226/809343 [01:16<03:56, 2674.49it/s]\u001b[A\n",
      " 22%|███████████████▊                                                        | 177494/809343 [01:16<03:58, 2646.89it/s]\u001b[A\n",
      " 22%|███████████████▊                                                        | 177760/809343 [01:16<04:45, 2210.11it/s]\u001b[A\n",
      " 22%|███████████████▊                                                        | 178019/809343 [01:16<04:33, 2304.57it/s]\u001b[A\n",
      " 22%|███████████████▊                                                        | 178272/809343 [01:17<04:27, 2360.91it/s]\u001b[A\n",
      " 22%|███████████████▉                                                        | 178516/809343 [01:17<04:42, 2235.61it/s]\u001b[A\n",
      " 22%|███████████████▉                                                        | 178749/809343 [01:17<04:39, 2256.77it/s]\u001b[A\n",
      " 22%|███████████████▉                                                        | 178990/809343 [01:17<04:34, 2294.67it/s]\u001b[A\n",
      " 22%|███████████████▉                                                        | 179271/809343 [01:17<04:18, 2433.14it/s]\u001b[A\n",
      " 22%|███████████████▉                                                        | 179562/809343 [01:17<04:06, 2550.88it/s]\u001b[A\n",
      " 22%|███████████████▉                                                        | 179820/809343 [01:17<04:29, 2337.83it/s]\u001b[A\n",
      " 22%|████████████████                                                        | 180059/809343 [01:17<04:32, 2309.57it/s]\u001b[A\n",
      " 22%|████████████████                                                        | 180294/809343 [01:17<04:33, 2297.03it/s]\u001b[A\n",
      " 22%|████████████████                                                        | 180560/809343 [01:18<04:22, 2394.32it/s]\u001b[A\n",
      " 22%|████████████████                                                        | 180802/809343 [01:18<04:22, 2396.90it/s]\u001b[A\n",
      " 22%|████████████████                                                        | 181044/809343 [01:18<04:37, 2267.49it/s]\u001b[A\n"
     ]
    },
    {
     "name": "stderr",
     "output_type": "stream",
     "text": [
      " 22%|████████████████▏                                                       | 181342/809343 [01:18<04:14, 2465.78it/s]\u001b[A\n",
      " 22%|████████████████▏                                                       | 181592/809343 [01:18<04:14, 2470.41it/s]\u001b[A\n",
      " 22%|████████████████▏                                                       | 181847/809343 [01:18<04:11, 2492.37it/s]\u001b[A\n",
      " 22%|████████████████▏                                                       | 182098/809343 [01:18<04:14, 2463.74it/s]\u001b[A\n",
      " 23%|████████████████▏                                                       | 182346/809343 [01:18<04:21, 2393.65it/s]\u001b[A\n",
      " 23%|████████████████▏                                                       | 182587/809343 [01:18<04:25, 2359.50it/s]\u001b[A\n",
      " 23%|████████████████▎                                                       | 182824/809343 [01:18<04:25, 2357.56it/s]\u001b[A\n",
      " 23%|████████████████▎                                                       | 183061/809343 [01:19<04:26, 2349.36it/s]\u001b[A\n",
      " 23%|████████████████▎                                                       | 183297/809343 [01:19<04:27, 2341.74it/s]\u001b[A\n",
      " 23%|████████████████▎                                                       | 183551/809343 [01:19<04:21, 2394.16it/s]\u001b[A\n",
      " 23%|████████████████▎                                                       | 183791/809343 [01:19<04:27, 2339.65it/s]\u001b[A\n",
      " 23%|████████████████▍                                                       | 184078/809343 [01:19<04:10, 2491.28it/s]\u001b[A\n",
      " 23%|████████████████▍                                                       | 184328/809343 [01:19<04:18, 2414.14it/s]\u001b[A\n",
      " 23%|████████████████▍                                                       | 184571/809343 [01:19<04:39, 2238.63it/s]\u001b[A\n",
      " 23%|████████████████▍                                                       | 184819/809343 [01:19<04:31, 2300.20it/s]\u001b[A\n",
      " 23%|████████████████▍                                                       | 185079/809343 [01:19<04:21, 2383.65it/s]\u001b[A\n",
      " 23%|████████████████▍                                                       | 185322/809343 [01:20<04:20, 2396.34it/s]\u001b[A\n",
      " 23%|████████████████▌                                                       | 185614/809343 [01:20<04:04, 2547.93it/s]\u001b[A\n",
      " 23%|████████████████▌                                                       | 185879/809343 [01:20<04:02, 2575.26it/s]\u001b[A\n",
      " 23%|████████████████▌                                                       | 186149/809343 [01:20<03:58, 2609.53it/s]\u001b[A\n",
      " 23%|████████████████▌                                                       | 186411/809343 [01:20<04:10, 2482.74it/s]\u001b[A\n",
      " 23%|████████████████▌                                                       | 186698/809343 [01:20<04:00, 2590.15it/s]\u001b[A\n",
      " 23%|████████████████▋                                                       | 186959/809343 [01:20<04:05, 2536.91it/s]\u001b[A\n",
      " 23%|████████████████▋                                                       | 187214/809343 [01:20<05:37, 1844.14it/s]\u001b[A\n",
      " 23%|████████████████▋                                                       | 187441/809343 [01:20<05:20, 1939.11it/s]\u001b[A\n",
      " 23%|████████████████▋                                                       | 187694/809343 [01:21<04:58, 2080.45it/s]\u001b[A\n",
      " 23%|████████████████▋                                                       | 187954/809343 [01:21<04:40, 2211.88it/s]\u001b[A\n",
      " 23%|████████████████▋                                                       | 188232/809343 [01:21<04:24, 2348.50it/s]\u001b[A\n",
      " 23%|████████████████▊                                                       | 188496/809343 [01:21<04:16, 2421.91it/s]\u001b[A\n",
      " 23%|████████████████▊                                                       | 188804/809343 [01:21<03:57, 2608.25it/s]\u001b[A\n",
      " 23%|████████████████▊                                                       | 189072/809343 [01:21<03:58, 2598.93it/s]\u001b[A\n",
      " 23%|████████████████▊                                                       | 189337/809343 [01:21<04:02, 2552.71it/s]\u001b[A\n",
      " 23%|████████████████▊                                                       | 189596/809343 [01:21<04:04, 2532.83it/s]\u001b[A\n",
      " 23%|████████████████▉                                                       | 189852/809343 [01:21<04:09, 2485.34it/s]\u001b[A\n",
      " 23%|████████████████▉                                                       | 190103/809343 [01:22<04:29, 2296.46it/s]\u001b[A\n",
      " 24%|████████████████▉                                                       | 190364/809343 [01:22<04:20, 2371.95it/s]\u001b[A\n",
      " 24%|████████████████▉                                                       | 190605/809343 [01:22<04:22, 2354.95it/s]\u001b[A\n",
      " 24%|████████████████▉                                                       | 190876/809343 [01:22<04:12, 2450.74it/s]\u001b[A\n",
      " 24%|█████████████████                                                       | 191142/809343 [01:22<04:06, 2509.39it/s]\u001b[A\n",
      " 24%|█████████████████                                                       | 191402/809343 [01:22<04:03, 2533.13it/s]\u001b[A\n",
      " 24%|█████████████████                                                       | 191657/809343 [01:22<04:11, 2454.24it/s]\u001b[A\n",
      " 24%|█████████████████                                                       | 191904/809343 [01:22<04:19, 2376.75it/s]\u001b[A\n",
      " 24%|█████████████████                                                       | 192154/809343 [01:22<04:16, 2405.27it/s]\u001b[A\n",
      " 24%|█████████████████                                                       | 192447/809343 [01:22<04:01, 2552.84it/s]\u001b[A\n",
      " 24%|█████████████████▏                                                      | 192704/809343 [01:23<04:13, 2429.15it/s]\u001b[A\n",
      " 24%|█████████████████▏                                                      | 192975/809343 [01:23<04:06, 2504.18it/s]\u001b[A\n",
      " 24%|█████████████████▏                                                      | 193228/809343 [01:23<04:07, 2489.71it/s]\u001b[A\n",
      " 24%|█████████████████▏                                                      | 193487/809343 [01:23<04:04, 2515.50it/s]\u001b[A\n",
      " 24%|█████████████████▏                                                      | 193742/809343 [01:23<04:04, 2519.41it/s]\u001b[A\n",
      " 24%|█████████████████▎                                                      | 193995/809343 [01:23<04:08, 2473.68it/s]\u001b[A\n",
      " 24%|█████████████████▎                                                      | 194243/809343 [01:23<04:28, 2290.63it/s]\u001b[A\n",
      " 24%|█████████████████▎                                                      | 194475/809343 [01:23<05:44, 1783.54it/s]\u001b[A\n",
      " 24%|█████████████████▎                                                      | 194672/809343 [01:24<05:40, 1803.24it/s]\u001b[A\n",
      " 24%|█████████████████▎                                                      | 194905/809343 [01:24<05:18, 1930.24it/s]\u001b[A\n",
      " 24%|█████████████████▎                                                      | 195166/809343 [01:24<04:52, 2103.27it/s]\u001b[A\n",
      " 24%|█████████████████▍                                                      | 195419/809343 [01:24<04:36, 2218.94it/s]\u001b[A\n",
      " 24%|█████████████████▍                                                      | 195650/809343 [01:24<04:48, 2127.07it/s]\u001b[A\n",
      " 24%|█████████████████▍                                                      | 195870/809343 [01:24<05:13, 1956.83it/s]\u001b[A\n",
      " 24%|█████████████████▍                                                      | 196073/809343 [01:24<05:18, 1924.07it/s]\u001b[A\n",
      " 24%|█████████████████▍                                                      | 196270/809343 [01:24<05:24, 1891.54it/s]\u001b[A\n",
      " 24%|█████████████████▍                                                      | 196463/809343 [01:24<05:25, 1880.74it/s]\u001b[A\n",
      " 24%|█████████████████▍                                                      | 196675/809343 [01:25<05:15, 1944.37it/s]\u001b[A\n",
      " 24%|█████████████████▌                                                      | 196904/809343 [01:25<05:00, 2038.53it/s]\u001b[A\n",
      " 24%|█████████████████▌                                                      | 197155/809343 [01:25<04:42, 2168.51it/s]\u001b[A\n",
      " 24%|█████████████████▌                                                      | 197381/809343 [01:25<04:39, 2193.17it/s]\u001b[A\n",
      " 24%|█████████████████▌                                                      | 197602/809343 [01:25<04:40, 2184.13it/s]\u001b[A\n"
     ]
    },
    {
     "name": "stderr",
     "output_type": "stream",
     "text": [
      " 24%|█████████████████▌                                                      | 197822/809343 [01:25<04:40, 2182.75it/s]\u001b[A\n",
      " 24%|█████████████████▌                                                      | 198041/809343 [01:25<05:13, 1951.06it/s]\u001b[A\n",
      " 24%|█████████████████▋                                                      | 198257/809343 [01:25<05:04, 2006.97it/s]\u001b[A\n",
      " 25%|█████████████████▋                                                      | 198495/809343 [01:25<04:49, 2109.47it/s]\u001b[A\n",
      " 25%|█████████████████▋                                                      | 198713/809343 [01:25<04:47, 2124.08it/s]\u001b[A\n",
      " 25%|█████████████████▋                                                      | 198928/809343 [01:26<04:48, 2117.01it/s]\u001b[A\n",
      " 25%|█████████████████▋                                                      | 199149/809343 [01:26<04:45, 2139.58it/s]\u001b[A\n",
      " 25%|█████████████████▋                                                      | 199378/809343 [01:26<04:39, 2180.45it/s]\u001b[A\n",
      " 25%|█████████████████▊                                                      | 199597/809343 [01:26<04:46, 2130.08it/s]\u001b[A\n",
      " 25%|█████████████████▊                                                      | 199838/809343 [01:26<04:35, 2210.54it/s]\u001b[A\n",
      " 25%|█████████████████▊                                                      | 200060/809343 [01:26<04:56, 2057.95it/s]\u001b[A\n",
      " 25%|█████████████████▊                                                      | 200315/809343 [01:26<04:37, 2192.17it/s]\u001b[A\n",
      " 25%|█████████████████▊                                                      | 200541/809343 [01:26<04:35, 2209.12it/s]\u001b[A\n",
      " 25%|█████████████████▊                                                      | 200764/809343 [01:26<04:35, 2206.40it/s]\u001b[A\n",
      " 25%|█████████████████▉                                                      | 201007/809343 [01:27<04:29, 2260.34it/s]\u001b[A\n",
      " 25%|█████████████████▉                                                      | 201235/809343 [01:27<04:45, 2126.71it/s]\u001b[A\n",
      " 25%|█████████████████▉                                                      | 201450/809343 [01:27<04:53, 2070.09it/s]\u001b[A\n",
      " 25%|█████████████████▉                                                      | 201675/809343 [01:27<04:46, 2118.91it/s]\u001b[A\n",
      " 25%|█████████████████▉                                                      | 201889/809343 [01:27<04:46, 2118.20it/s]\u001b[A\n",
      " 25%|█████████████████▉                                                      | 202106/809343 [01:27<04:46, 2121.29it/s]\u001b[A\n",
      " 25%|██████████████████                                                      | 202338/809343 [01:27<04:38, 2179.16it/s]\u001b[A\n",
      " 25%|██████████████████                                                      | 202565/809343 [01:27<04:35, 2205.41it/s]\u001b[A\n",
      " 25%|██████████████████                                                      | 202787/809343 [01:27<04:38, 2181.12it/s]\u001b[A\n",
      " 25%|██████████████████                                                      | 203006/809343 [01:27<04:52, 2073.39it/s]\u001b[A\n",
      " 25%|██████████████████                                                      | 203274/809343 [01:28<04:29, 2244.72it/s]\u001b[A\n",
      " 25%|██████████████████                                                      | 203514/809343 [01:28<04:24, 2289.65it/s]\u001b[A\n",
      " 25%|██████████████████▏                                                     | 203745/809343 [01:28<04:32, 2220.12it/s]\u001b[A\n",
      " 25%|██████████████████▏                                                     | 203969/809343 [01:28<04:34, 2208.97it/s]\u001b[A\n",
      " 25%|██████████████████▏                                                     | 204200/809343 [01:28<04:31, 2232.73it/s]\u001b[A\n",
      " 25%|██████████████████▏                                                     | 204443/809343 [01:28<04:24, 2289.71it/s]\u001b[A\n",
      " 25%|██████████████████▏                                                     | 204673/809343 [01:28<04:33, 2207.05it/s]\u001b[A\n",
      " 25%|██████████████████▏                                                     | 204895/809343 [01:28<04:36, 2182.27it/s]\u001b[A\n",
      " 25%|██████████████████▏                                                     | 205128/809343 [01:28<04:31, 2223.86it/s]\u001b[A\n",
      " 25%|██████████████████▎                                                     | 205364/809343 [01:29<04:27, 2261.02it/s]\u001b[A\n",
      " 25%|██████████████████▎                                                     | 205614/809343 [01:29<04:18, 2331.24it/s]\u001b[A\n",
      " 25%|██████████████████▎                                                     | 205900/809343 [01:29<04:02, 2485.26it/s]\u001b[A\n",
      " 25%|██████████████████▎                                                     | 206150/809343 [01:29<04:04, 2465.34it/s]\u001b[A\n",
      " 26%|██████████████████▎                                                     | 206422/809343 [01:29<03:57, 2535.01it/s]\u001b[A\n",
      " 26%|██████████████████▍                                                     | 206676/809343 [01:29<04:17, 2344.41it/s]\u001b[A\n",
      " 26%|██████████████████▍                                                     | 206918/809343 [01:29<04:14, 2365.11it/s]\u001b[A\n",
      " 26%|██████████████████▍                                                     | 207180/809343 [01:29<04:07, 2434.00it/s]\u001b[A\n",
      " 26%|██████████████████▍                                                     | 207437/809343 [01:29<04:03, 2469.02it/s]\u001b[A\n",
      " 26%|██████████████████▍                                                     | 207730/809343 [01:29<03:53, 2574.73it/s]\u001b[A\n",
      " 26%|██████████████████▌                                                     | 208011/809343 [01:30<03:47, 2641.34it/s]\u001b[A\n",
      " 26%|██████████████████▌                                                     | 208288/809343 [01:30<03:45, 2665.69it/s]\u001b[A\n",
      " 26%|██████████████████▌                                                     | 208564/809343 [01:30<03:43, 2691.22it/s]\u001b[A\n",
      " 26%|██████████████████▌                                                     | 208834/809343 [01:30<03:47, 2636.97it/s]\u001b[A\n",
      " 26%|██████████████████▌                                                     | 209099/809343 [01:30<03:48, 2632.52it/s]\u001b[A\n",
      " 26%|██████████████████▋                                                     | 209367/809343 [01:30<03:46, 2643.17it/s]\u001b[A\n",
      " 26%|██████████████████▋                                                     | 209632/809343 [01:30<04:02, 2477.73it/s]\u001b[A\n",
      " 26%|██████████████████▋                                                     | 209923/809343 [01:30<03:50, 2599.98it/s]\u001b[A\n",
      " 26%|██████████████████▋                                                     | 210186/809343 [01:30<03:50, 2604.65it/s]\u001b[A\n",
      " 26%|██████████████████▋                                                     | 210449/809343 [01:31<04:00, 2492.37it/s]\u001b[A\n",
      " 26%|██████████████████▋                                                     | 210709/809343 [01:31<03:57, 2521.37it/s]\u001b[A\n",
      " 26%|██████████████████▊                                                     | 210963/809343 [01:31<04:00, 2487.64it/s]\u001b[A\n",
      " 26%|██████████████████▊                                                     | 211213/809343 [01:31<04:06, 2422.20it/s]\u001b[A\n",
      " 26%|██████████████████▊                                                     | 211457/809343 [01:31<04:12, 2366.30it/s]\u001b[A\n",
      " 26%|██████████████████▊                                                     | 211729/809343 [01:31<04:02, 2465.35it/s]\u001b[A\n",
      " 26%|██████████████████▊                                                     | 211977/809343 [01:31<04:09, 2394.80it/s]\u001b[A\n",
      " 26%|██████████████████▉                                                     | 212225/809343 [01:31<04:07, 2416.41it/s]\u001b[A\n",
      " 26%|██████████████████▉                                                     | 212489/809343 [01:31<04:00, 2479.60it/s]\u001b[A\n",
      " 26%|██████████████████▉                                                     | 212738/809343 [01:31<04:02, 2462.62it/s]\u001b[A\n",
      " 26%|██████████████████▉                                                     | 212985/809343 [01:32<04:10, 2385.13it/s]\u001b[A\n",
      " 26%|██████████████████▉                                                     | 213234/809343 [01:32<04:07, 2412.05it/s]\u001b[A\n",
      " 26%|██████████████████▉                                                     | 213531/809343 [01:32<03:52, 2568.01it/s]\u001b[A\n",
      " 26%|███████████████████                                                     | 213792/809343 [01:32<03:50, 2579.00it/s]\u001b[A\n"
     ]
    },
    {
     "name": "stderr",
     "output_type": "stream",
     "text": [
      " 26%|███████████████████                                                     | 214051/809343 [01:32<03:57, 2506.11it/s]\u001b[A\n",
      " 26%|███████████████████                                                     | 214303/809343 [01:32<04:02, 2455.13it/s]\u001b[A\n",
      " 27%|███████████████████                                                     | 214550/809343 [01:32<04:22, 2269.69it/s]\u001b[A\n",
      " 27%|███████████████████                                                     | 214833/809343 [01:32<04:05, 2419.62it/s]\u001b[A\n",
      " 27%|███████████████████▏                                                    | 215079/809343 [01:32<04:14, 2330.72it/s]\u001b[A\n",
      " 27%|███████████████████▏                                                    | 215321/809343 [01:33<04:12, 2352.62it/s]\u001b[A\n",
      " 27%|███████████████████▏                                                    | 215559/809343 [01:33<04:13, 2346.17it/s]\u001b[A\n",
      " 27%|███████████████████▏                                                    | 215795/809343 [01:33<04:12, 2348.67it/s]\u001b[A\n",
      " 27%|███████████████████▏                                                    | 216031/809343 [01:33<04:17, 2306.87it/s]\u001b[A\n",
      " 27%|███████████████████▏                                                    | 216263/809343 [01:33<04:40, 2116.59it/s]\u001b[A\n",
      " 27%|███████████████████▎                                                    | 216485/809343 [01:33<04:37, 2135.08it/s]\u001b[A\n",
      " 27%|███████████████████▎                                                    | 216715/809343 [01:33<04:34, 2161.60it/s]\u001b[A\n",
      " 27%|███████████████████▎                                                    | 216939/809343 [01:33<04:32, 2177.82it/s]\u001b[A\n",
      " 27%|███████████████████▎                                                    | 217159/809343 [01:33<04:34, 2160.45it/s]\u001b[A\n",
      " 27%|███████████████████▎                                                    | 217411/809343 [01:33<04:22, 2258.74it/s]\u001b[A\n",
      " 27%|███████████████████▎                                                    | 217638/809343 [01:34<04:24, 2238.84it/s]\u001b[A\n",
      " 27%|███████████████████▍                                                    | 217863/809343 [01:34<04:39, 2117.31it/s]\u001b[A\n",
      " 27%|███████████████████▍                                                    | 218145/809343 [01:34<04:15, 2313.87it/s]\u001b[A\n",
      " 27%|███████████████████▍                                                    | 218379/809343 [01:34<04:22, 2255.12it/s]\u001b[A"
     ]
    }
   ],
   "source": [
    "tokens = [[word for word in t if word not in sw] for t in tqdm(tokens)]"
   ]
  },
  {
   "cell_type": "markdown",
   "id": "1cea5d45",
   "metadata": {},
   "source": [
    "### Remove puctuation marks"
   ]
  },
  {
   "cell_type": "code",
   "execution_count": null,
   "id": "da291229",
   "metadata": {},
   "outputs": [],
   "source": [
    "tokenizer =  RegexpTokenizer(r'\\w+')"
   ]
  },
  {
   "cell_type": "code",
   "execution_count": null,
   "id": "2e8fd3b9",
   "metadata": {},
   "outputs": [],
   "source": [
    "tokens = [[\"\".join(tokenizer.tokenize(word)) for word in t  \n",
    "          if len(tokenizer.tokenize(word))> 0 ] for t in tqdm(tokens)]"
   ]
  },
  {
   "cell_type": "code",
   "execution_count": null,
   "id": "c93ed345",
   "metadata": {},
   "outputs": [],
   "source": [
    "tokens[13]"
   ]
  },
  {
   "cell_type": "code",
   "execution_count": null,
   "id": "cdc66a0a",
   "metadata": {},
   "outputs": [],
   "source": [
    "tokens[3401]"
   ]
  },
  {
   "cell_type": "markdown",
   "id": "ce6e5009",
   "metadata": {},
   "source": [
    "### Remove 'XXXX' and '000'"
   ]
  },
  {
   "cell_type": "code",
   "execution_count": null,
   "id": "105db7b8",
   "metadata": {},
   "outputs": [],
   "source": [
    "tokens =  [[t for t in token if t not in ['xxxx','000']]for token in tqdm(tokens) ]"
   ]
  },
  {
   "cell_type": "code",
   "execution_count": null,
   "id": "badbafe8",
   "metadata": {},
   "outputs": [],
   "source": [
    "tokens[13]"
   ]
  },
  {
   "cell_type": "code",
   "execution_count": null,
   "id": "65f20c21",
   "metadata": {},
   "outputs": [],
   "source": [
    "tokens[3401]"
   ]
  },
  {
   "cell_type": "markdown",
   "id": "4a290d9b",
   "metadata": {},
   "source": [
    "### Check word count for couple of classes"
   ]
  },
  {
   "cell_type": "code",
   "execution_count": null,
   "id": "b5458d90",
   "metadata": {},
   "outputs": [],
   "source": [
    "data[\"clean_complaints\"] = tokens"
   ]
  },
  {
   "cell_type": "code",
   "execution_count": null,
   "id": "3d6905b7",
   "metadata": {},
   "outputs": [],
   "source": [
    "data.head()"
   ]
  },
  {
   "cell_type": "code",
   "execution_count": null,
   "id": "bb342c9a",
   "metadata": {},
   "outputs": [],
   "source": [
    "loan_complaints = list( data[data[\"Product\"]==\"loan\"][\"clean_complaints\"] )"
   ]
  },
  {
   "cell_type": "code",
   "execution_count": null,
   "id": "44752f1c",
   "metadata": {},
   "outputs": [],
   "source": [
    "loan_complaints = [token for complaint in tqdm(loan_complaints) for token in complaint]"
   ]
  },
  {
   "cell_type": "code",
   "execution_count": null,
   "id": "16965a27",
   "metadata": {},
   "outputs": [],
   "source": [
    "counter = Counter(loan_complaints)"
   ]
  },
  {
   "cell_type": "code",
   "execution_count": null,
   "id": "60d426de",
   "metadata": {},
   "outputs": [],
   "source": [
    "counter.most_common(10)"
   ]
  },
  {
   "cell_type": "code",
   "execution_count": null,
   "id": "d53da7b5",
   "metadata": {},
   "outputs": [],
   "source": [
    "card_complaints = list( data[data[\"Product\"]==\"card\"][\"clean_complaints\"] )"
   ]
  },
  {
   "cell_type": "code",
   "execution_count": null,
   "id": "64b6a6e4",
   "metadata": {},
   "outputs": [],
   "source": [
    "card_complaints = [token for complaint in tqdm(card_complaints) for token in complaint]"
   ]
  },
  {
   "cell_type": "code",
   "execution_count": null,
   "id": "297847eb",
   "metadata": {},
   "outputs": [],
   "source": [
    "counter = Counter(card_complaints)"
   ]
  },
  {
   "cell_type": "code",
   "execution_count": null,
   "id": "182ef73f",
   "metadata": {},
   "outputs": [],
   "source": [
    "counter.most_common(10)"
   ]
  },
  {
   "cell_type": "code",
   "execution_count": null,
   "id": "7b69cf88",
   "metadata": {},
   "outputs": [],
   "source": [
    "counter = Counter([t for complaint in tqdm(tokens) for t in complaint])"
   ]
  },
  {
   "cell_type": "code",
   "execution_count": null,
   "id": "cf415db8",
   "metadata": {},
   "outputs": [],
   "source": [
    "counter.most_common(10)"
   ]
  },
  {
   "cell_type": "code",
   "execution_count": null,
   "id": "910ec601",
   "metadata": {},
   "outputs": [],
   "source": [
    "# Unique tokens in dataset\n",
    "len(counter.keys())"
   ]
  },
  {
   "cell_type": "code",
   "execution_count": null,
   "id": "8cf74602",
   "metadata": {},
   "outputs": [],
   "source": [
    "clean_complaints =[\" \".join(complaint) for complaint in tqdm(tokens)]"
   ]
  },
  {
   "cell_type": "code",
   "execution_count": null,
   "id": "b4136e32",
   "metadata": {},
   "outputs": [],
   "source": [
    "clean_complaints[13]"
   ]
  },
  {
   "cell_type": "code",
   "execution_count": null,
   "id": "b91d3296",
   "metadata": {},
   "outputs": [],
   "source": [
    "clean_complaints[3401]"
   ]
  },
  {
   "cell_type": "markdown",
   "id": "a0f8458c",
   "metadata": {},
   "source": [
    "# Data Preparation\n",
    "\n",
    "### vectorize the data"
   ]
  },
  {
   "cell_type": "code",
   "execution_count": null,
   "id": "5f64f7db",
   "metadata": {},
   "outputs": [],
   "source": [
    "# min_df : it signifies that the token should present in at least min_df number of documents to be considered \n",
    "vect = CountVectorizer(min_df=200)"
   ]
  },
  {
   "cell_type": "code",
   "execution_count": null,
   "id": "efb82763",
   "metadata": {},
   "outputs": [],
   "source": [
    "X = vect.fit_transform(clean_complaints)"
   ]
  },
  {
   "cell_type": "code",
   "execution_count": null,
   "id": "ea54bd57",
   "metadata": {},
   "outputs": [],
   "source": [
    "X.shape"
   ]
  },
  {
   "cell_type": "code",
   "execution_count": null,
   "id": "83653b2b",
   "metadata": {},
   "outputs": [],
   "source": [
    "y = data[\"Product\"]"
   ]
  },
  {
   "cell_type": "markdown",
   "id": "e475bbf3",
   "metadata": {},
   "source": [
    "### Split data into train and test"
   ]
  },
  {
   "cell_type": "code",
   "execution_count": null,
   "id": "00f2dcd6",
   "metadata": {},
   "outputs": [],
   "source": [
    "X_train, X_test, y_train, y_test = train_test_split(X, y, test_size=0.2,stratify=y, random_state=42)"
   ]
  },
  {
   "cell_type": "code",
   "execution_count": null,
   "id": "08353403",
   "metadata": {},
   "outputs": [],
   "source": [
    "print(X_train.shape, y_train.shape, X_test.shape, y_test.shape)"
   ]
  },
  {
   "cell_type": "markdown",
   "id": "b8ec57fc",
   "metadata": {},
   "source": [
    "# Model Training\n",
    "\n",
    "### Create a multi-nomial Naive Bayes's Model"
   ]
  },
  {
   "cell_type": "code",
   "execution_count": null,
   "id": "5f55940e",
   "metadata": {},
   "outputs": [],
   "source": [
    "model = MultinomialNB()"
   ]
  },
  {
   "cell_type": "code",
   "execution_count": null,
   "id": "4d606242",
   "metadata": {},
   "outputs": [],
   "source": [
    "model.fit(X_train, y_train)"
   ]
  },
  {
   "cell_type": "markdown",
   "id": "354abbce",
   "metadata": {},
   "source": [
    "### Predict on the test set"
   ]
  },
  {
   "cell_type": "code",
   "execution_count": null,
   "id": "cfce7d99",
   "metadata": {},
   "outputs": [],
   "source": [
    "test_pred = model.predict(X_test)"
   ]
  },
  {
   "cell_type": "code",
   "execution_count": null,
   "id": "6a795047",
   "metadata": {},
   "outputs": [],
   "source": [
    "accuracy_score(y_test, test_pred)"
   ]
  },
  {
   "cell_type": "code",
   "execution_count": null,
   "id": "62f0484c",
   "metadata": {},
   "outputs": [],
   "source": [
    "conf_mat = confusion_matrix(y_test, test_pred)"
   ]
  },
  {
   "cell_type": "code",
   "execution_count": null,
   "id": "8b61a968",
   "metadata": {},
   "outputs": [],
   "source": [
    "conf_mat"
   ]
  },
  {
   "cell_type": "code",
   "execution_count": null,
   "id": "83b9f9ee",
   "metadata": {},
   "outputs": [],
   "source": [
    "conf_mat = pd.DataFrame(conf_mat, columns=model.classes_, index=model.classes_)"
   ]
  },
  {
   "cell_type": "code",
   "execution_count": null,
   "id": "953d6e5f",
   "metadata": {},
   "outputs": [],
   "source": [
    "conf_mat"
   ]
  },
  {
   "cell_type": "code",
   "execution_count": null,
   "id": "41179dc1",
   "metadata": {},
   "outputs": [],
   "source": [
    "sns.heatmap(conf_mat)\n",
    "plt.show()"
   ]
  },
  {
   "cell_type": "markdown",
   "id": "7fcd2369",
   "metadata": {},
   "source": [
    "### Save vectorizer and model"
   ]
  },
  {
   "cell_type": "code",
   "execution_count": null,
   "id": "47a36700",
   "metadata": {},
   "outputs": [],
   "source": [
    "with open(\"Output/count_vect.pkl\",\"wb\") as f:\n",
    "    pickle.dump(vect, f)\n",
    "    \n",
    "with open(\"Open/nb.pickle\",\"wb\") as f:\n",
    "    pickle.dump(model,f)"
   ]
  },
  {
   "cell_type": "markdown",
   "id": "b5982916",
   "metadata": {},
   "source": [
    "# Prediction"
   ]
  },
  {
   "cell_type": "code",
   "execution_count": null,
   "id": "0602e686",
   "metadata": {},
   "outputs": [],
   "source": [
    "data[\"Complaint\"][1545]"
   ]
  },
  {
   "cell_type": "code",
   "execution_count": null,
   "id": "b858cc39",
   "metadata": {},
   "outputs": [],
   "source": [
    "data[\"Product\"][1545]"
   ]
  },
  {
   "cell_type": "code",
   "execution_count": null,
   "id": "bb515486",
   "metadata": {},
   "outputs": [],
   "source": [
    "data[\"Complaint\"][5001]"
   ]
  },
  {
   "cell_type": "code",
   "execution_count": null,
   "id": "a23706cf",
   "metadata": {},
   "outputs": [],
   "source": [
    "data[\"Product\"][5001]"
   ]
  },
  {
   "cell_type": "code",
   "execution_count": null,
   "id": "6bdb8d3f",
   "metadata": {},
   "outputs": [],
   "source": [
    "test_complaint_1 = data[\"Complaint\"][1545]\n",
    "test_complaint_2 = data[\"Complaint\"][5001]\n",
    "test_complaint = [test_complaint_1,test_complaint_2]"
   ]
  },
  {
   "cell_type": "markdown",
   "id": "0f51e298",
   "metadata": {},
   "source": [
    "### Load the vectorizer and model objects"
   ]
  },
  {
   "cell_type": "code",
   "execution_count": null,
   "id": "9f7c3be6",
   "metadata": {},
   "outputs": [],
   "source": [
    "vect = pickle.load(open(\"Output/count_vect.pkl\",\"rb\"))\n",
    "model = pickle.load(open(\"Output/rb.pkl\", \"rb\"))"
   ]
  },
  {
   "cell_type": "markdown",
   "id": "54720e4c",
   "metadata": {},
   "source": [
    "### Process the data"
   ]
  },
  {
   "cell_type": "code",
   "execution_count": null,
   "id": "a43129b4",
   "metadata": {},
   "outputs": [],
   "source": [
    "test_complaint = [r.lower() for r in test_complaint]"
   ]
  },
  {
   "cell_type": "code",
   "execution_count": null,
   "id": "eb444391",
   "metadata": {},
   "outputs": [],
   "source": [
    "test_complaint"
   ]
  },
  {
   "cell_type": "code",
   "execution_count": null,
   "id": "38f72106",
   "metadata": {},
   "outputs": [],
   "source": [
    "test_tokens = [word_tokenize(r) for r in test_complaint]"
   ]
  },
  {
   "cell_type": "code",
   "execution_count": null,
   "id": "4b605aae",
   "metadata": {},
   "outputs": [],
   "source": [
    "test_tokens = [[word for word in t if word not in sw] for t in test_tokens]"
   ]
  },
  {
   "cell_type": "code",
   "execution_count": null,
   "id": "5122f027",
   "metadata": {},
   "outputs": [],
   "source": [
    "test_tokens = [[\"\".join(tokenizer.tokenize(word)) for word in t\n",
    "              if len(tokenizer.tokenize(word))>0 ] for t in test_tokens]"
   ]
  },
  {
   "cell_type": "code",
   "execution_count": null,
   "id": "68acc64a",
   "metadata": {},
   "outputs": [],
   "source": [
    "test_tokens = [[t for t in token if t not in [\"xxxx\", \"000\"]]\n",
    "              for token in test_tokens]"
   ]
  },
  {
   "cell_type": "code",
   "execution_count": null,
   "id": "224d5575",
   "metadata": {},
   "outputs": [],
   "source": [
    "clean_test_complaints = [\" \".join(complaint) for complaint in test_tokens]"
   ]
  },
  {
   "cell_type": "markdown",
   "id": "f08a0fc8",
   "metadata": {},
   "source": [
    "### Vectorize test data"
   ]
  },
  {
   "cell_type": "code",
   "execution_count": null,
   "id": "7de60c68",
   "metadata": {},
   "outputs": [],
   "source": [
    "X_test = vect.transform(clean_test_complaints)"
   ]
  },
  {
   "cell_type": "markdown",
   "id": "b1048561",
   "metadata": {},
   "source": [
    "### Make predictions"
   ]
  },
  {
   "cell_type": "code",
   "execution_count": null,
   "id": "16bc8e29",
   "metadata": {},
   "outputs": [],
   "source": [
    "model.predict(X_test)"
   ]
  }
 ],
 "metadata": {
  "kernelspec": {
   "display_name": "Python 3 (ipykernel)",
   "language": "python",
   "name": "python3"
  },
  "language_info": {
   "codemirror_mode": {
    "name": "ipython",
    "version": 3
   },
   "file_extension": ".py",
   "mimetype": "text/x-python",
   "name": "python",
   "nbconvert_exporter": "python",
   "pygments_lexer": "ipython3",
   "version": "3.8.10"
  }
 },
 "nbformat": 4,
 "nbformat_minor": 5
}
